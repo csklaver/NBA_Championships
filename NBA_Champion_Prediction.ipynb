{
 "cells": [
  {
   "cell_type": "markdown",
   "metadata": {
    "colab_type": "text",
    "id": "cMSn67px4ANI",
    "toc": true
   },
   "source": [
    "<h1>Table of Contents<span class=\"tocSkip\"></span></h1>\n",
    "<div class=\"toc\"><ul class=\"toc-item\"><li><span><a href=\"#Data-Preprocessing\" data-toc-modified-id=\"Data-Preprocessing-1\"><span class=\"toc-item-num\">1&nbsp;&nbsp;</span>Data Preprocessing</a></span><ul class=\"toc-item\"><li><span><a href=\"#Loading-data\" data-toc-modified-id=\"Loading-data-1.1\"><span class=\"toc-item-num\">1.1&nbsp;&nbsp;</span>Loading data</a></span></li><li><span><a href=\"#Getting-the-name-of-the-target\" data-toc-modified-id=\"Getting-the-name-of-the-target-1.2\"><span class=\"toc-item-num\">1.2&nbsp;&nbsp;</span>Getting the name of the target</a></span></li><li><span><a href=\"#Dividing-the-Training-data-into-Training-and-Validation\" data-toc-modified-id=\"Dividing-the-Training-data-into-Training-and-Validation-1.3\"><span class=\"toc-item-num\">1.3&nbsp;&nbsp;</span>Dividing the Training data into Training and Validation</a></span></li><li><span><a href=\"#Handling-the-Identifiers\" data-toc-modified-id=\"Handling-the-Identifiers-1.4\"><span class=\"toc-item-num\">1.4&nbsp;&nbsp;</span>Handling the Identifiers</a></span><ul class=\"toc-item\"><li><span><a href=\"#Combining-the-training,-validation-and-testing-data\" data-toc-modified-id=\"Combining-the-training,-validation-and-testing-data-1.4.1\"><span class=\"toc-item-num\">1.4.1&nbsp;&nbsp;</span>Combining the training, validation and testing data</a></span></li><li><span><a href=\"#Identifying-the-identifiers\" data-toc-modified-id=\"Identifying-the-identifiers-1.4.2\"><span class=\"toc-item-num\">1.4.2&nbsp;&nbsp;</span>Identifying the identifiers</a></span></li><li><span><a href=\"#Removing-the-Identifiers\" data-toc-modified-id=\"Removing-the-Identifiers-1.4.3\"><span class=\"toc-item-num\">1.4.3&nbsp;&nbsp;</span>Removing the Identifiers</a></span></li></ul></li><li><span><a href=\"#Handling-Missing-Data\" data-toc-modified-id=\"Handling-Missing-Data-1.5\"><span class=\"toc-item-num\">1.5&nbsp;&nbsp;</span>Handling Missing Data</a></span><ul class=\"toc-item\"><li><span><a href=\"#Combining-the-training,-validation-and-testing-data\" data-toc-modified-id=\"Combining-the-training,-validation-and-testing-data-1.5.1\"><span class=\"toc-item-num\">1.5.1&nbsp;&nbsp;</span>Combining the training, validation and testing data</a></span></li><li><span><a href=\"#Identifying-missing-values\" data-toc-modified-id=\"Identifying-missing-values-1.5.2\"><span class=\"toc-item-num\">1.5.2&nbsp;&nbsp;</span>Identifying missing values</a></span></li><li><span><a href=\"#Removing-missing-values\" data-toc-modified-id=\"Removing-missing-values-1.5.3\"><span class=\"toc-item-num\">1.5.3&nbsp;&nbsp;</span>Removing missing values</a></span></li></ul></li><li><span><a href=\"#Encoding-the-data\" data-toc-modified-id=\"Encoding-the-data-1.6\"><span class=\"toc-item-num\">1.6&nbsp;&nbsp;</span>Encoding the data</a></span><ul class=\"toc-item\"><li><span><a href=\"#Combining-the-training,-validation-and-testing-data\" data-toc-modified-id=\"Combining-the-training,-validation-and-testing-data-1.6.1\"><span class=\"toc-item-num\">1.6.1&nbsp;&nbsp;</span>Combining the training, validation and testing data</a></span></li><li><span><a href=\"#Identifying-the-Categorical-Variables\" data-toc-modified-id=\"Identifying-the-Categorical-Variables-1.6.2\"><span class=\"toc-item-num\">1.6.2&nbsp;&nbsp;</span>Identifying the Categorical Variables</a></span></li><li><span><a href=\"#Encoding-the-categorical-features\" data-toc-modified-id=\"Encoding-the-categorical-features-1.6.3\"><span class=\"toc-item-num\">1.6.3&nbsp;&nbsp;</span>Encoding the categorical features</a></span></li><li><span><a href=\"#Encoding-the-categorical-target\" data-toc-modified-id=\"Encoding-the-categorical-target-1.6.4\"><span class=\"toc-item-num\">1.6.4&nbsp;&nbsp;</span>Encoding the categorical target</a></span></li><li><span><a href=\"#Separating-the-training,-validation-and-testing-data\" data-toc-modified-id=\"Separating-the-training,-validation-and-testing-data-1.6.5\"><span class=\"toc-item-num\">1.6.5&nbsp;&nbsp;</span>Separating the training, validation and testing data</a></span></li></ul></li><li><span><a href=\"#Getting-the-name-of-the-features\" data-toc-modified-id=\"Getting-the-name-of-the-features-1.7\"><span class=\"toc-item-num\">1.7&nbsp;&nbsp;</span>Getting the name of the features</a></span></li><li><span><a href=\"#Getting-the-feature-matrix-and-target-vector\" data-toc-modified-id=\"Getting-the-feature-matrix-and-target-vector-1.8\"><span class=\"toc-item-num\">1.8&nbsp;&nbsp;</span>Getting the feature matrix and target vector</a></span></li><li><span><a href=\"#Scaling-the-data\" data-toc-modified-id=\"Scaling-the-data-1.9\"><span class=\"toc-item-num\">1.9&nbsp;&nbsp;</span>Scaling the data</a></span></li></ul></li><li><span><a href=\"#Hyperparameter-Tuning-and-Model-Selection\" data-toc-modified-id=\"Hyperparameter-Tuning-and-Model-Selection-2\"><span class=\"toc-item-num\">2&nbsp;&nbsp;</span>Hyperparameter Tuning and Model Selection</a></span><ul class=\"toc-item\"><li><span><a href=\"#Creating-the-dictionary-of-the-models\" data-toc-modified-id=\"Creating-the-dictionary-of-the-models-2.1\"><span class=\"toc-item-num\">2.1&nbsp;&nbsp;</span>Creating the dictionary of the models</a></span></li><li><span><a href=\"#Creating-the-dictionary-of-the-pipelines\" data-toc-modified-id=\"Creating-the-dictionary-of-the-pipelines-2.2\"><span class=\"toc-item-num\">2.2&nbsp;&nbsp;</span>Creating the dictionary of the pipelines</a></span></li><li><span><a href=\"#Hyperparameter-tuning-and-model-selection-using-Sklearn-(0.22-or-above)\" data-toc-modified-id=\"Hyperparameter-tuning-and-model-selection-using-Sklearn-(0.22-or-above)-2.3\"><span class=\"toc-item-num\">2.3&nbsp;&nbsp;</span>Hyperparameter tuning and model selection using Sklearn (0.22 or above)</a></span><ul class=\"toc-item\"><li><span><a href=\"#Getting-the-predefined-split-cross-validator\" data-toc-modified-id=\"Getting-the-predefined-split-cross-validator-2.3.1\"><span class=\"toc-item-num\">2.3.1&nbsp;&nbsp;</span>Getting the predefined split cross-validator</a></span></li><li><span><a href=\"#Creating-the-dictionary-of-the-parameter-grids\" data-toc-modified-id=\"Creating-the-dictionary-of-the-parameter-grids-2.3.2\"><span class=\"toc-item-num\">2.3.2&nbsp;&nbsp;</span>Creating the dictionary of the parameter grids</a></span><ul class=\"toc-item\"><li><span><a href=\"#The-parameter-grid-for-logistic-regression\" data-toc-modified-id=\"The-parameter-grid-for-logistic-regression-2.3.2.1\"><span class=\"toc-item-num\">2.3.2.1&nbsp;&nbsp;</span>The parameter grid for logistic regression</a></span></li><li><span><a href=\"#The-parameter-grid-for-decision-tree\" data-toc-modified-id=\"The-parameter-grid-for-decision-tree-2.3.2.2\"><span class=\"toc-item-num\">2.3.2.2&nbsp;&nbsp;</span>The parameter grid for decision tree</a></span></li><li><span><a href=\"#The-parameter-grid-for-random-forest\" data-toc-modified-id=\"The-parameter-grid-for-random-forest-2.3.2.3\"><span class=\"toc-item-num\">2.3.2.3&nbsp;&nbsp;</span>The parameter grid for random forest</a></span></li><li><span><a href=\"#The-parameter-grid-for-Adaboost\" data-toc-modified-id=\"The-parameter-grid-for-Adaboost-2.3.2.4\"><span class=\"toc-item-num\">2.3.2.4&nbsp;&nbsp;</span>The parameter grid for Adaboost</a></span></li><li><span><a href=\"#The-parameter-grid-for-histogram-based-gradient-boosting\" data-toc-modified-id=\"The-parameter-grid-for-histogram-based-gradient-boosting-2.3.2.5\"><span class=\"toc-item-num\">2.3.2.5&nbsp;&nbsp;</span>The parameter grid for histogram-based gradient boosting</a></span></li><li><span><a href=\"#The-parameter-grid-for-xgboost\" data-toc-modified-id=\"The-parameter-grid-for-xgboost-2.3.2.6\"><span class=\"toc-item-num\">2.3.2.6&nbsp;&nbsp;</span>The parameter grid for xgboost</a></span></li><li><span><a href=\"#The-parameter-grid-for-multi-layer-perceptron-classifier\" data-toc-modified-id=\"The-parameter-grid-for-multi-layer-perceptron-classifier-2.3.2.7\"><span class=\"toc-item-num\">2.3.2.7&nbsp;&nbsp;</span>The parameter grid for multi-layer perceptron classifier</a></span></li></ul></li><li><span><a href=\"#Creating-the-directory-for-the-cv-results.\" data-toc-modified-id=\"Creating-the-directory-for-the-cv-results.-2.3.3\"><span class=\"toc-item-num\">2.3.3&nbsp;&nbsp;</span>Creating the directory for the cv results.</a></span></li><li><span><a href=\"#Hyperparameter-tuning\" data-toc-modified-id=\"Hyperparameter-tuning-2.3.4\"><span class=\"toc-item-num\">2.3.4&nbsp;&nbsp;</span>Hyperparameter tuning</a></span></li><li><span><a href=\"#Model-selection\" data-toc-modified-id=\"Model-selection-2.3.5\"><span class=\"toc-item-num\">2.3.5&nbsp;&nbsp;</span>Model selection</a></span></li></ul></li></ul></li><li><span><a href=\"#Generating-the-Submission-File\" data-toc-modified-id=\"Generating-the-Submission-File-3\"><span class=\"toc-item-num\">3&nbsp;&nbsp;</span>Generating the Submission File</a></span></li></ul></div>"
   ]
  },
  {
   "cell_type": "markdown",
   "metadata": {
    "colab_type": "text",
    "id": "YTiWqATn4ANO"
   },
   "source": [
    "<b>\n",
    "\n",
    "<p>\n",
    "<center>\n",
    "<font size=\"5\">\n",
    "NBA Finals Team Stats: Machine Learning Project\n",
    "</font>\n",
    "</center>\n",
    "</p>\n",
    "\n",
    "\n",
    "<p>\n",
    "<center>\n",
    "<font size=\"3\">\n",
    "Data Science, Columbian College of Arts & Sciences, George Washington University\n",
    "</font>\n",
    "</center>\n",
    "</p>\n",
    "\n",
    "<p>\n",
    "<center>\n",
    "<font size=\"3\">\n",
    "Author: Caroline Sklaver\n",
    "</font>\n",
    "</center>\n",
    "</p>\n",
    "\n",
    "</b>"
   ]
  },
  {
   "cell_type": "markdown",
   "metadata": {
    "colab_type": "text",
    "id": "WJ-IbZqAgILJ"
   },
   "source": [
    "# Notebook Configuration"
   ]
  },
  {
   "cell_type": "markdown",
   "metadata": {
    "colab_type": "text",
    "id": "bYZhU1Wqgmqx"
   },
   "source": [
    "## Warning"
   ]
  },
  {
   "cell_type": "code",
   "execution_count": 1,
   "metadata": {
    "colab": {},
    "colab_type": "code",
    "id": "MUl4k83e4ANR"
   },
   "outputs": [],
   "source": [
    "import warnings\n",
    "\n",
    "# Ignore warnings\n",
    "warnings.filterwarnings('ignore')"
   ]
  },
  {
   "cell_type": "markdown",
   "metadata": {
    "colab_type": "text",
    "id": "6WMODpPfgn2U"
   },
   "source": [
    "## Matplotlib"
   ]
  },
  {
   "cell_type": "code",
   "execution_count": 2,
   "metadata": {
    "colab": {},
    "colab_type": "code",
    "id": "DBRVH9SB4ANb"
   },
   "outputs": [],
   "source": [
    "import matplotlib.pyplot as plt\n",
    "%matplotlib inline \n",
    "\n",
    "# Set matplotlib sizes\n",
    "plt.rc('font', size=20)\n",
    "plt.rc('axes', titlesize=20)\n",
    "plt.rc('axes', labelsize=20)\n",
    "plt.rc('xtick', labelsize=20)\n",
    "plt.rc('ytick', labelsize=20)\n",
    "plt.rc('legend', fontsize=20)\n",
    "plt.rc('figure', titlesize=20)"
   ]
  },
  {
   "cell_type": "markdown",
   "metadata": {
    "colab_type": "text",
    "id": "1eOpQpPu4ANk"
   },
   "source": [
    "# Data Preprocessing"
   ]
  },
  {
   "cell_type": "markdown",
   "metadata": {
    "colab_type": "text",
    "id": "xnJAfR784ANl"
   },
   "source": [
    "## Loading data"
   ]
  },
  {
   "cell_type": "markdown",
   "metadata": {
    "colab_type": "text",
    "id": "LM_WKAmO4ANm"
   },
   "source": [
    "NBA championship data - https://www.kaggle.com/daverosenman/nba-finals-team-stats"
   ]
  },
  {
   "cell_type": "code",
   "execution_count": 3,
   "metadata": {
    "colab": {},
    "colab_type": "code",
    "id": "6onKpDeL4ANn",
    "scrolled": true
   },
   "outputs": [],
   "source": [
    "import pandas as pd\n",
    "# Load the champion and runner up data\n",
    "# read in champion and runner up data\n",
    "df_raw_champs = pd.read_csv('championsdata.csv')\n",
    "df_raw_ru = pd.read_csv('runnerupsdata.csv')\n",
    "\n",
    "# create target col of champion or not\n",
    "df_raw_champs['Champion'] = 1\n",
    "df_raw_ru['Champion'] = 0"
   ]
  },
  {
   "cell_type": "code",
   "execution_count": 4,
   "metadata": {},
   "outputs": [
    {
     "data": {
      "text/html": [
       "<div>\n",
       "<style scoped>\n",
       "    .dataframe tbody tr th:only-of-type {\n",
       "        vertical-align: middle;\n",
       "    }\n",
       "\n",
       "    .dataframe tbody tr th {\n",
       "        vertical-align: top;\n",
       "    }\n",
       "\n",
       "    .dataframe thead th {\n",
       "        text-align: right;\n",
       "    }\n",
       "</style>\n",
       "<table border=\"1\" class=\"dataframe\">\n",
       "  <thead>\n",
       "    <tr style=\"text-align: right;\">\n",
       "      <th></th>\n",
       "      <th># rows</th>\n",
       "      <th># columns</th>\n",
       "    </tr>\n",
       "  </thead>\n",
       "  <tbody>\n",
       "    <tr>\n",
       "      <th>0</th>\n",
       "      <td>440</td>\n",
       "      <td>25</td>\n",
       "    </tr>\n",
       "  </tbody>\n",
       "</table>\n",
       "</div>"
      ],
      "text/plain": [
       "   # rows  # columns\n",
       "0     440         25"
      ]
     },
     "execution_count": 4,
     "metadata": {},
     "output_type": "execute_result"
    }
   ],
   "source": [
    "# merge the two datasets\n",
    "df_raw = pd.concat([df_raw_champs, df_raw_ru])\n",
    "\n",
    "df_raw = df_raw.reset_index(drop=True)\n",
    "\n",
    "# print the shape of merged data\n",
    "pd.DataFrame([[df_raw.shape[0], df_raw.shape[1]]], columns=['# rows', '# columns'])"
   ]
  },
  {
   "cell_type": "code",
   "execution_count": 5,
   "metadata": {
    "colab": {
     "base_uri": "https://localhost:8080/",
     "height": 253
    },
    "colab_type": "code",
    "id": "V_sZ0vZI4AN1",
    "outputId": "e04bc457-d3e3-415a-ed1d-f7bd3cf3d1ef",
    "scrolled": true
   },
   "outputs": [
    {
     "data": {
      "text/html": [
       "<div>\n",
       "<style scoped>\n",
       "    .dataframe tbody tr th:only-of-type {\n",
       "        vertical-align: middle;\n",
       "    }\n",
       "\n",
       "    .dataframe tbody tr th {\n",
       "        vertical-align: top;\n",
       "    }\n",
       "\n",
       "    .dataframe thead th {\n",
       "        text-align: right;\n",
       "    }\n",
       "</style>\n",
       "<table border=\"1\" class=\"dataframe\">\n",
       "  <thead>\n",
       "    <tr style=\"text-align: right;\">\n",
       "      <th></th>\n",
       "      <th>Year</th>\n",
       "      <th>Team</th>\n",
       "      <th>Game</th>\n",
       "      <th>Win</th>\n",
       "      <th>Home</th>\n",
       "      <th>MP</th>\n",
       "      <th>FG</th>\n",
       "      <th>FGA</th>\n",
       "      <th>FGP</th>\n",
       "      <th>TP</th>\n",
       "      <th>...</th>\n",
       "      <th>ORB</th>\n",
       "      <th>DRB</th>\n",
       "      <th>TRB</th>\n",
       "      <th>AST</th>\n",
       "      <th>STL</th>\n",
       "      <th>BLK</th>\n",
       "      <th>TOV</th>\n",
       "      <th>PF</th>\n",
       "      <th>PTS</th>\n",
       "      <th>Champion</th>\n",
       "    </tr>\n",
       "  </thead>\n",
       "  <tbody>\n",
       "    <tr>\n",
       "      <th>435</th>\n",
       "      <td>2017</td>\n",
       "      <td>Cavaliers</td>\n",
       "      <td>5</td>\n",
       "      <td>0</td>\n",
       "      <td>0</td>\n",
       "      <td>240</td>\n",
       "      <td>47</td>\n",
       "      <td>88</td>\n",
       "      <td>0.534</td>\n",
       "      <td>11</td>\n",
       "      <td>...</td>\n",
       "      <td>12</td>\n",
       "      <td>28</td>\n",
       "      <td>40</td>\n",
       "      <td>22</td>\n",
       "      <td>6</td>\n",
       "      <td>5</td>\n",
       "      <td>14</td>\n",
       "      <td>22</td>\n",
       "      <td>120</td>\n",
       "      <td>0</td>\n",
       "    </tr>\n",
       "    <tr>\n",
       "      <th>436</th>\n",
       "      <td>2018</td>\n",
       "      <td>Cavaliers</td>\n",
       "      <td>1</td>\n",
       "      <td>0</td>\n",
       "      <td>0</td>\n",
       "      <td>265</td>\n",
       "      <td>44</td>\n",
       "      <td>99</td>\n",
       "      <td>0.444</td>\n",
       "      <td>10</td>\n",
       "      <td>...</td>\n",
       "      <td>19</td>\n",
       "      <td>34</td>\n",
       "      <td>53</td>\n",
       "      <td>18</td>\n",
       "      <td>5</td>\n",
       "      <td>3</td>\n",
       "      <td>11</td>\n",
       "      <td>18</td>\n",
       "      <td>114</td>\n",
       "      <td>0</td>\n",
       "    </tr>\n",
       "    <tr>\n",
       "      <th>437</th>\n",
       "      <td>2018</td>\n",
       "      <td>Cavaliers</td>\n",
       "      <td>2</td>\n",
       "      <td>0</td>\n",
       "      <td>0</td>\n",
       "      <td>240</td>\n",
       "      <td>37</td>\n",
       "      <td>90</td>\n",
       "      <td>0.411</td>\n",
       "      <td>9</td>\n",
       "      <td>...</td>\n",
       "      <td>16</td>\n",
       "      <td>26</td>\n",
       "      <td>42</td>\n",
       "      <td>25</td>\n",
       "      <td>9</td>\n",
       "      <td>4</td>\n",
       "      <td>10</td>\n",
       "      <td>15</td>\n",
       "      <td>103</td>\n",
       "      <td>0</td>\n",
       "    </tr>\n",
       "    <tr>\n",
       "      <th>438</th>\n",
       "      <td>2018</td>\n",
       "      <td>Cavaliers</td>\n",
       "      <td>3</td>\n",
       "      <td>0</td>\n",
       "      <td>1</td>\n",
       "      <td>240</td>\n",
       "      <td>40</td>\n",
       "      <td>92</td>\n",
       "      <td>0.435</td>\n",
       "      <td>9</td>\n",
       "      <td>...</td>\n",
       "      <td>15</td>\n",
       "      <td>32</td>\n",
       "      <td>47</td>\n",
       "      <td>20</td>\n",
       "      <td>6</td>\n",
       "      <td>4</td>\n",
       "      <td>13</td>\n",
       "      <td>18</td>\n",
       "      <td>102</td>\n",
       "      <td>0</td>\n",
       "    </tr>\n",
       "    <tr>\n",
       "      <th>439</th>\n",
       "      <td>2018</td>\n",
       "      <td>Cavaliers</td>\n",
       "      <td>4</td>\n",
       "      <td>0</td>\n",
       "      <td>1</td>\n",
       "      <td>240</td>\n",
       "      <td>30</td>\n",
       "      <td>87</td>\n",
       "      <td>0.345</td>\n",
       "      <td>8</td>\n",
       "      <td>...</td>\n",
       "      <td>17</td>\n",
       "      <td>27</td>\n",
       "      <td>44</td>\n",
       "      <td>21</td>\n",
       "      <td>5</td>\n",
       "      <td>5</td>\n",
       "      <td>11</td>\n",
       "      <td>22</td>\n",
       "      <td>85</td>\n",
       "      <td>0</td>\n",
       "    </tr>\n",
       "  </tbody>\n",
       "</table>\n",
       "<p>5 rows × 25 columns</p>\n",
       "</div>"
      ],
      "text/plain": [
       "     Year       Team  Game  Win  Home   MP  FG  FGA    FGP  TP  ...  ORB  DRB  \\\n",
       "435  2017  Cavaliers     5    0     0  240  47   88  0.534  11  ...   12   28   \n",
       "436  2018  Cavaliers     1    0     0  265  44   99  0.444  10  ...   19   34   \n",
       "437  2018  Cavaliers     2    0     0  240  37   90  0.411   9  ...   16   26   \n",
       "438  2018  Cavaliers     3    0     1  240  40   92  0.435   9  ...   15   32   \n",
       "439  2018  Cavaliers     4    0     1  240  30   87  0.345   8  ...   17   27   \n",
       "\n",
       "     TRB  AST  STL  BLK  TOV  PF  PTS  Champion  \n",
       "435   40   22    6    5   14  22  120         0  \n",
       "436   53   18    5    3   11  18  114         0  \n",
       "437   42   25    9    4   10  15  103         0  \n",
       "438   47   20    6    4   13  18  102         0  \n",
       "439   44   21    5    5   11  22   85         0  \n",
       "\n",
       "[5 rows x 25 columns]"
      ]
     },
     "execution_count": 5,
     "metadata": {},
     "output_type": "execute_result"
    }
   ],
   "source": [
    "# Print the first 5 rows of df_raw\n",
    "df_raw.tail()"
   ]
  },
  {
   "cell_type": "code",
   "execution_count": 7,
   "metadata": {},
   "outputs": [
    {
     "name": "stdout",
     "output_type": "stream",
     "text": [
      "<class 'pandas.core.frame.DataFrame'>\n",
      "RangeIndex: 440 entries, 0 to 439\n",
      "Data columns (total 25 columns):\n",
      " #   Column    Non-Null Count  Dtype  \n",
      "---  ------    --------------  -----  \n",
      " 0   Year      440 non-null    int64  \n",
      " 1   Team      440 non-null    object \n",
      " 2   Game      440 non-null    int64  \n",
      " 3   Win       440 non-null    int64  \n",
      " 4   Home      440 non-null    int64  \n",
      " 5   MP        440 non-null    int64  \n",
      " 6   FG        440 non-null    int64  \n",
      " 7   FGA       440 non-null    int64  \n",
      " 8   FGP       440 non-null    float64\n",
      " 9   TP        440 non-null    int64  \n",
      " 10  TPA       440 non-null    int64  \n",
      " 11  TPP       431 non-null    float64\n",
      " 12  FT        440 non-null    int64  \n",
      " 13  FTA       440 non-null    int64  \n",
      " 14  FTP       440 non-null    float64\n",
      " 15  ORB       440 non-null    int64  \n",
      " 16  DRB       440 non-null    int64  \n",
      " 17  TRB       440 non-null    int64  \n",
      " 18  AST       440 non-null    int64  \n",
      " 19  STL       440 non-null    int64  \n",
      " 20  BLK       440 non-null    int64  \n",
      " 21  TOV       440 non-null    int64  \n",
      " 22  PF        440 non-null    int64  \n",
      " 23  PTS       440 non-null    int64  \n",
      " 24  Champion  440 non-null    int64  \n",
      "dtypes: float64(3), int64(21), object(1)\n",
      "memory usage: 86.1+ KB\n"
     ]
    }
   ],
   "source": [
    "df_raw.info()"
   ]
  },
  {
   "cell_type": "markdown",
   "metadata": {},
   "source": [
    "## EDA"
   ]
  },
  {
   "cell_type": "markdown",
   "metadata": {},
   "source": [
    "#### Features:\n",
    "- Year: The year the series was played\n",
    "- Team: The name of the team.\n",
    "- Win: 1 = Win. 0 = Loss\n",
    "- Home: 1 = Home team. 0 = Away team.\n",
    "- Game: Game #\n",
    "- MP - Total minutes played. Equals 240 (48x5=240) if game did not go to overtime. MP>240 if game went to overtime.\n",
    "- FG - Field goals made\n",
    "- FGA - Field goal attempts\n",
    "- FGP - Field Goal Percentage\n",
    "- TP - 3 Point Field Goals Made\n",
    "- TPA - Three point attempts\n",
    "- TPP - three point percentage\n",
    "- FT - Free throws made\n",
    "- FTA - Free throws attempted\n",
    "- FTP - Free throw percentage\n",
    "- ORB - Offensive rebounds\n",
    "- DRB - Defensive rebounds\n",
    "- TRB - Total rebounds\n",
    "- AST - Assists\n",
    "- STL - Steals\n",
    "- BLK - Blocks\n",
    "- TOV - Turnovers\n",
    "- PF - Personal fouls\n",
    "- PTS - points scored"
   ]
  },
  {
   "cell_type": "code",
   "execution_count": 45,
   "metadata": {},
   "outputs": [
    {
     "data": {
      "image/png": "[encoded data removed]",
      "text/plain": [
       "<Figure size 864x864 with 2 Axes>"
      ]
     },
     "metadata": {
      "needs_background": "light"
     },
     "output_type": "display_data"
    }
   ],
   "source": [
    "import seaborn as sns\n",
    "import matplotlib.pyplot as plt\n",
    "\n",
    "# Correlation map\n",
    "f,ax=plt.subplots(figsize=(12,12))\n",
    "sns.heatmap(df_raw.corr(),linewidths=0.5,fmt='.1f',ax=ax, cmap=sns.diverging_palette(20, 220, n=200))\n",
    "plt.show()"
   ]
  },
  {
   "cell_type": "code",
   "execution_count": 22,
   "metadata": {},
   "outputs": [
    {
     "data": {
      "text/html": [
       "<div>\n",
       "<style scoped>\n",
       "    .dataframe tbody tr th:only-of-type {\n",
       "        vertical-align: middle;\n",
       "    }\n",
       "\n",
       "    .dataframe tbody tr th {\n",
       "        vertical-align: top;\n",
       "    }\n",
       "\n",
       "    .dataframe thead th {\n",
       "        text-align: right;\n",
       "    }\n",
       "</style>\n",
       "<table border=\"1\" class=\"dataframe\">\n",
       "  <thead>\n",
       "    <tr style=\"text-align: right;\">\n",
       "      <th></th>\n",
       "      <th>Year</th>\n",
       "      <th>Game</th>\n",
       "      <th>Win</th>\n",
       "      <th>Home</th>\n",
       "      <th>MP</th>\n",
       "      <th>FG</th>\n",
       "      <th>FGA</th>\n",
       "      <th>FGP</th>\n",
       "      <th>TP</th>\n",
       "      <th>TPA</th>\n",
       "      <th>...</th>\n",
       "      <th>ORB</th>\n",
       "      <th>DRB</th>\n",
       "      <th>TRB</th>\n",
       "      <th>AST</th>\n",
       "      <th>STL</th>\n",
       "      <th>BLK</th>\n",
       "      <th>TOV</th>\n",
       "      <th>PF</th>\n",
       "      <th>PTS</th>\n",
       "      <th>Champion</th>\n",
       "    </tr>\n",
       "  </thead>\n",
       "  <tbody>\n",
       "    <tr>\n",
       "      <th>Year</th>\n",
       "      <td>1.000000</td>\n",
       "      <td>-1.331054e-02</td>\n",
       "      <td>0.006188</td>\n",
       "      <td>0.001409</td>\n",
       "      <td>0.062345</td>\n",
       "      <td>-0.379231</td>\n",
       "      <td>-0.327657</td>\n",
       "      <td>-0.203203</td>\n",
       "      <td>0.730511</td>\n",
       "      <td>0.821542</td>\n",
       "      <td>...</td>\n",
       "      <td>-0.332144</td>\n",
       "      <td>0.160403</td>\n",
       "      <td>-0.119819</td>\n",
       "      <td>-0.417414</td>\n",
       "      <td>-0.113401</td>\n",
       "      <td>-0.166928</td>\n",
       "      <td>-0.265362</td>\n",
       "      <td>-0.232365</td>\n",
       "      <td>-0.228595</td>\n",
       "      <td>-2.013424e-04</td>\n",
       "    </tr>\n",
       "    <tr>\n",
       "      <th>Game</th>\n",
       "      <td>-0.013311</td>\n",
       "      <td>1.000000e+00</td>\n",
       "      <td>0.003677</td>\n",
       "      <td>-0.005253</td>\n",
       "      <td>-0.065659</td>\n",
       "      <td>-0.093400</td>\n",
       "      <td>-0.083219</td>\n",
       "      <td>-0.046686</td>\n",
       "      <td>0.019125</td>\n",
       "      <td>0.029598</td>\n",
       "      <td>...</td>\n",
       "      <td>0.015548</td>\n",
       "      <td>-0.061721</td>\n",
       "      <td>-0.034924</td>\n",
       "      <td>-0.059536</td>\n",
       "      <td>-0.041654</td>\n",
       "      <td>-0.062317</td>\n",
       "      <td>-0.036716</td>\n",
       "      <td>0.113859</td>\n",
       "      <td>-0.034850</td>\n",
       "      <td>-5.832464e-19</td>\n",
       "    </tr>\n",
       "    <tr>\n",
       "      <th>Win</th>\n",
       "      <td>0.006188</td>\n",
       "      <td>3.677430e-03</td>\n",
       "      <td>1.000000</td>\n",
       "      <td>0.213639</td>\n",
       "      <td>-0.043698</td>\n",
       "      <td>0.271920</td>\n",
       "      <td>-0.065270</td>\n",
       "      <td>0.423321</td>\n",
       "      <td>0.086177</td>\n",
       "      <td>-0.076620</td>\n",
       "      <td>...</td>\n",
       "      <td>-0.030435</td>\n",
       "      <td>0.382820</td>\n",
       "      <td>0.264256</td>\n",
       "      <td>0.257825</td>\n",
       "      <td>0.138613</td>\n",
       "      <td>0.136877</td>\n",
       "      <td>-0.164824</td>\n",
       "      <td>-0.227693</td>\n",
       "      <td>0.379741</td>\n",
       "      <td>4.227316e-01</td>\n",
       "    </tr>\n",
       "    <tr>\n",
       "      <th>Home</th>\n",
       "      <td>0.001409</td>\n",
       "      <td>-5.253417e-03</td>\n",
       "      <td>0.213639</td>\n",
       "      <td>1.000000</td>\n",
       "      <td>-0.035507</td>\n",
       "      <td>0.138803</td>\n",
       "      <td>0.033589</td>\n",
       "      <td>0.154757</td>\n",
       "      <td>0.010694</td>\n",
       "      <td>0.002373</td>\n",
       "      <td>...</td>\n",
       "      <td>0.079811</td>\n",
       "      <td>0.204987</td>\n",
       "      <td>0.210873</td>\n",
       "      <td>0.188856</td>\n",
       "      <td>-0.021481</td>\n",
       "      <td>0.095491</td>\n",
       "      <td>-0.019450</td>\n",
       "      <td>-0.140231</td>\n",
       "      <td>0.169977</td>\n",
       "      <td>9.090909e-03</td>\n",
       "    </tr>\n",
       "    <tr>\n",
       "      <th>MP</th>\n",
       "      <td>0.062345</td>\n",
       "      <td>-6.565935e-02</td>\n",
       "      <td>-0.043698</td>\n",
       "      <td>-0.035507</td>\n",
       "      <td>1.000000</td>\n",
       "      <td>0.096619</td>\n",
       "      <td>0.165998</td>\n",
       "      <td>-0.012400</td>\n",
       "      <td>0.076089</td>\n",
       "      <td>0.075116</td>\n",
       "      <td>...</td>\n",
       "      <td>0.012489</td>\n",
       "      <td>0.068797</td>\n",
       "      <td>0.060453</td>\n",
       "      <td>0.013441</td>\n",
       "      <td>0.074910</td>\n",
       "      <td>0.035952</td>\n",
       "      <td>0.055306</td>\n",
       "      <td>0.085201</td>\n",
       "      <td>0.103156</td>\n",
       "      <td>3.550684e-02</td>\n",
       "    </tr>\n",
       "    <tr>\n",
       "      <th>FG</th>\n",
       "      <td>-0.379231</td>\n",
       "      <td>-9.339990e-02</td>\n",
       "      <td>0.271920</td>\n",
       "      <td>0.138803</td>\n",
       "      <td>0.096619</td>\n",
       "      <td>1.000000</td>\n",
       "      <td>0.661842</td>\n",
       "      <td>0.743237</td>\n",
       "      <td>-0.125821</td>\n",
       "      <td>-0.280371</td>\n",
       "      <td>...</td>\n",
       "      <td>0.195706</td>\n",
       "      <td>0.106977</td>\n",
       "      <td>0.221248</td>\n",
       "      <td>0.747452</td>\n",
       "      <td>0.230369</td>\n",
       "      <td>0.180498</td>\n",
       "      <td>0.033598</td>\n",
       "      <td>0.110223</td>\n",
       "      <td>0.857183</td>\n",
       "      <td>1.101834e-01</td>\n",
       "    </tr>\n",
       "    <tr>\n",
       "      <th>FGA</th>\n",
       "      <td>-0.327657</td>\n",
       "      <td>-8.321882e-02</td>\n",
       "      <td>-0.065270</td>\n",
       "      <td>0.033589</td>\n",
       "      <td>0.165998</td>\n",
       "      <td>0.661842</td>\n",
       "      <td>1.000000</td>\n",
       "      <td>-0.002879</td>\n",
       "      <td>-0.166104</td>\n",
       "      <td>-0.163591</td>\n",
       "      <td>...</td>\n",
       "      <td>0.602979</td>\n",
       "      <td>0.076421</td>\n",
       "      <td>0.492380</td>\n",
       "      <td>0.449052</td>\n",
       "      <td>0.250677</td>\n",
       "      <td>0.155180</td>\n",
       "      <td>-0.064215</td>\n",
       "      <td>0.179171</td>\n",
       "      <td>0.494712</td>\n",
       "      <td>-5.000973e-02</td>\n",
       "    </tr>\n",
       "    <tr>\n",
       "      <th>FGP</th>\n",
       "      <td>-0.203203</td>\n",
       "      <td>-4.668579e-02</td>\n",
       "      <td>0.423321</td>\n",
       "      <td>0.154757</td>\n",
       "      <td>-0.012400</td>\n",
       "      <td>0.743237</td>\n",
       "      <td>-0.002879</td>\n",
       "      <td>1.000000</td>\n",
       "      <td>-0.010441</td>\n",
       "      <td>-0.219670</td>\n",
       "      <td>...</td>\n",
       "      <td>-0.270695</td>\n",
       "      <td>0.068360</td>\n",
       "      <td>-0.144282</td>\n",
       "      <td>0.590541</td>\n",
       "      <td>0.087206</td>\n",
       "      <td>0.094161</td>\n",
       "      <td>0.095534</td>\n",
       "      <td>-0.006978</td>\n",
       "      <td>0.704898</td>\n",
       "      <td>1.880391e-01</td>\n",
       "    </tr>\n",
       "    <tr>\n",
       "      <th>TP</th>\n",
       "      <td>0.730511</td>\n",
       "      <td>1.912542e-02</td>\n",
       "      <td>0.086177</td>\n",
       "      <td>0.010694</td>\n",
       "      <td>0.076089</td>\n",
       "      <td>-0.125821</td>\n",
       "      <td>-0.166104</td>\n",
       "      <td>-0.010441</td>\n",
       "      <td>1.000000</td>\n",
       "      <td>0.886651</td>\n",
       "      <td>...</td>\n",
       "      <td>-0.298258</td>\n",
       "      <td>0.150136</td>\n",
       "      <td>-0.103036</td>\n",
       "      <td>-0.084002</td>\n",
       "      <td>-0.100500</td>\n",
       "      <td>-0.131117</td>\n",
       "      <td>-0.187060</td>\n",
       "      <td>-0.171787</td>\n",
       "      <td>0.106608</td>\n",
       "      <td>7.486016e-02</td>\n",
       "    </tr>\n",
       "    <tr>\n",
       "      <th>TPA</th>\n",
       "      <td>0.821542</td>\n",
       "      <td>2.959753e-02</td>\n",
       "      <td>-0.076620</td>\n",
       "      <td>0.002373</td>\n",
       "      <td>0.075116</td>\n",
       "      <td>-0.280371</td>\n",
       "      <td>-0.163591</td>\n",
       "      <td>-0.219670</td>\n",
       "      <td>0.886651</td>\n",
       "      <td>1.000000</td>\n",
       "      <td>...</td>\n",
       "      <td>-0.265372</td>\n",
       "      <td>0.138626</td>\n",
       "      <td>-0.087904</td>\n",
       "      <td>-0.250801</td>\n",
       "      <td>-0.125434</td>\n",
       "      <td>-0.164554</td>\n",
       "      <td>-0.216847</td>\n",
       "      <td>-0.152329</td>\n",
       "      <td>-0.090035</td>\n",
       "      <td>1.898714e-03</td>\n",
       "    </tr>\n",
       "    <tr>\n",
       "      <th>TPP</th>\n",
       "      <td>0.228981</td>\n",
       "      <td>-4.464085e-02</td>\n",
       "      <td>0.238160</td>\n",
       "      <td>-0.024193</td>\n",
       "      <td>0.048951</td>\n",
       "      <td>0.086429</td>\n",
       "      <td>-0.110906</td>\n",
       "      <td>0.215522</td>\n",
       "      <td>0.540662</td>\n",
       "      <td>0.244336</td>\n",
       "      <td>...</td>\n",
       "      <td>-0.219782</td>\n",
       "      <td>0.034694</td>\n",
       "      <td>-0.132843</td>\n",
       "      <td>0.100496</td>\n",
       "      <td>-0.004014</td>\n",
       "      <td>-0.026957</td>\n",
       "      <td>-0.116720</td>\n",
       "      <td>-0.052561</td>\n",
       "      <td>0.233961</td>\n",
       "      <td>1.298164e-01</td>\n",
       "    </tr>\n",
       "    <tr>\n",
       "      <th>FT</th>\n",
       "      <td>-0.193305</td>\n",
       "      <td>9.755461e-02</td>\n",
       "      <td>0.213524</td>\n",
       "      <td>0.079472</td>\n",
       "      <td>-0.019296</td>\n",
       "      <td>-0.074661</td>\n",
       "      <td>-0.150730</td>\n",
       "      <td>0.035571</td>\n",
       "      <td>-0.151324</td>\n",
       "      <td>-0.192252</td>\n",
       "      <td>...</td>\n",
       "      <td>0.029517</td>\n",
       "      <td>0.103802</td>\n",
       "      <td>0.098915</td>\n",
       "      <td>0.026946</td>\n",
       "      <td>-0.043316</td>\n",
       "      <td>-0.011269</td>\n",
       "      <td>-0.007806</td>\n",
       "      <td>0.199939</td>\n",
       "      <td>0.360928</td>\n",
       "      <td>7.457026e-02</td>\n",
       "    </tr>\n",
       "    <tr>\n",
       "      <th>FTA</th>\n",
       "      <td>-0.193424</td>\n",
       "      <td>9.364297e-02</td>\n",
       "      <td>0.194094</td>\n",
       "      <td>0.080611</td>\n",
       "      <td>-0.000598</td>\n",
       "      <td>-0.076792</td>\n",
       "      <td>-0.157041</td>\n",
       "      <td>0.034522</td>\n",
       "      <td>-0.150955</td>\n",
       "      <td>-0.192628</td>\n",
       "      <td>...</td>\n",
       "      <td>0.051994</td>\n",
       "      <td>0.115193</td>\n",
       "      <td>0.123657</td>\n",
       "      <td>0.031382</td>\n",
       "      <td>-0.049522</td>\n",
       "      <td>-0.001726</td>\n",
       "      <td>0.009712</td>\n",
       "      <td>0.212227</td>\n",
       "      <td>0.323705</td>\n",
       "      <td>1.075727e-01</td>\n",
       "    </tr>\n",
       "    <tr>\n",
       "      <th>FTP</th>\n",
       "      <td>0.003844</td>\n",
       "      <td>1.854969e-02</td>\n",
       "      <td>0.111651</td>\n",
       "      <td>0.024124</td>\n",
       "      <td>-0.039097</td>\n",
       "      <td>-0.009196</td>\n",
       "      <td>-0.030003</td>\n",
       "      <td>0.022280</td>\n",
       "      <td>-0.014693</td>\n",
       "      <td>-0.020693</td>\n",
       "      <td>...</td>\n",
       "      <td>-0.080614</td>\n",
       "      <td>0.002042</td>\n",
       "      <td>-0.056661</td>\n",
       "      <td>-0.019828</td>\n",
       "      <td>0.012125</td>\n",
       "      <td>-0.022804</td>\n",
       "      <td>-0.070729</td>\n",
       "      <td>-0.031323</td>\n",
       "      <td>0.150354</td>\n",
       "      <td>-6.299454e-02</td>\n",
       "    </tr>\n",
       "    <tr>\n",
       "      <th>ORB</th>\n",
       "      <td>-0.332144</td>\n",
       "      <td>1.554775e-02</td>\n",
       "      <td>-0.030435</td>\n",
       "      <td>0.079811</td>\n",
       "      <td>0.012489</td>\n",
       "      <td>0.195706</td>\n",
       "      <td>0.602979</td>\n",
       "      <td>-0.270695</td>\n",
       "      <td>-0.298258</td>\n",
       "      <td>-0.265372</td>\n",
       "      <td>...</td>\n",
       "      <td>1.000000</td>\n",
       "      <td>-0.074155</td>\n",
       "      <td>0.666376</td>\n",
       "      <td>0.113831</td>\n",
       "      <td>0.110083</td>\n",
       "      <td>0.109261</td>\n",
       "      <td>0.130997</td>\n",
       "      <td>0.108954</td>\n",
       "      <td>0.107864</td>\n",
       "      <td>2.459599e-02</td>\n",
       "    </tr>\n",
       "    <tr>\n",
       "      <th>DRB</th>\n",
       "      <td>0.160403</td>\n",
       "      <td>-6.172074e-02</td>\n",
       "      <td>0.382820</td>\n",
       "      <td>0.204987</td>\n",
       "      <td>0.068797</td>\n",
       "      <td>0.106977</td>\n",
       "      <td>0.076421</td>\n",
       "      <td>0.068360</td>\n",
       "      <td>0.150136</td>\n",
       "      <td>0.138626</td>\n",
       "      <td>...</td>\n",
       "      <td>-0.074155</td>\n",
       "      <td>1.000000</td>\n",
       "      <td>0.694147</td>\n",
       "      <td>0.127298</td>\n",
       "      <td>-0.093302</td>\n",
       "      <td>0.223660</td>\n",
       "      <td>0.039533</td>\n",
       "      <td>-0.123499</td>\n",
       "      <td>0.193146</td>\n",
       "      <td>1.536188e-01</td>\n",
       "    </tr>\n",
       "    <tr>\n",
       "      <th>TRB</th>\n",
       "      <td>-0.119819</td>\n",
       "      <td>-3.492431e-02</td>\n",
       "      <td>0.264256</td>\n",
       "      <td>0.210873</td>\n",
       "      <td>0.060453</td>\n",
       "      <td>0.221248</td>\n",
       "      <td>0.492380</td>\n",
       "      <td>-0.144282</td>\n",
       "      <td>-0.103036</td>\n",
       "      <td>-0.087904</td>\n",
       "      <td>...</td>\n",
       "      <td>0.666376</td>\n",
       "      <td>0.694147</td>\n",
       "      <td>1.000000</td>\n",
       "      <td>0.177342</td>\n",
       "      <td>0.009701</td>\n",
       "      <td>0.246092</td>\n",
       "      <td>0.124114</td>\n",
       "      <td>-0.013691</td>\n",
       "      <td>0.222269</td>\n",
       "      <td>1.326106e-01</td>\n",
       "    </tr>\n",
       "    <tr>\n",
       "      <th>AST</th>\n",
       "      <td>-0.417414</td>\n",
       "      <td>-5.953611e-02</td>\n",
       "      <td>0.257825</td>\n",
       "      <td>0.188856</td>\n",
       "      <td>0.013441</td>\n",
       "      <td>0.747452</td>\n",
       "      <td>0.449052</td>\n",
       "      <td>0.590541</td>\n",
       "      <td>-0.084002</td>\n",
       "      <td>-0.250801</td>\n",
       "      <td>...</td>\n",
       "      <td>0.113831</td>\n",
       "      <td>0.127298</td>\n",
       "      <td>0.177342</td>\n",
       "      <td>1.000000</td>\n",
       "      <td>0.194284</td>\n",
       "      <td>0.198334</td>\n",
       "      <td>0.065390</td>\n",
       "      <td>0.063443</td>\n",
       "      <td>0.682982</td>\n",
       "      <td>1.092584e-01</td>\n",
       "    </tr>\n",
       "    <tr>\n",
       "      <th>STL</th>\n",
       "      <td>-0.113401</td>\n",
       "      <td>-4.165396e-02</td>\n",
       "      <td>0.138613</td>\n",
       "      <td>-0.021481</td>\n",
       "      <td>0.074910</td>\n",
       "      <td>0.230369</td>\n",
       "      <td>0.250677</td>\n",
       "      <td>0.087206</td>\n",
       "      <td>-0.100500</td>\n",
       "      <td>-0.125434</td>\n",
       "      <td>...</td>\n",
       "      <td>0.110083</td>\n",
       "      <td>-0.093302</td>\n",
       "      <td>0.009701</td>\n",
       "      <td>0.194284</td>\n",
       "      <td>1.000000</td>\n",
       "      <td>0.060319</td>\n",
       "      <td>0.062603</td>\n",
       "      <td>-0.040640</td>\n",
       "      <td>0.163929</td>\n",
       "      <td>8.512897e-02</td>\n",
       "    </tr>\n",
       "    <tr>\n",
       "      <th>BLK</th>\n",
       "      <td>-0.166928</td>\n",
       "      <td>-6.231746e-02</td>\n",
       "      <td>0.136877</td>\n",
       "      <td>0.095491</td>\n",
       "      <td>0.035952</td>\n",
       "      <td>0.180498</td>\n",
       "      <td>0.155180</td>\n",
       "      <td>0.094161</td>\n",
       "      <td>-0.131117</td>\n",
       "      <td>-0.164554</td>\n",
       "      <td>...</td>\n",
       "      <td>0.109261</td>\n",
       "      <td>0.223660</td>\n",
       "      <td>0.246092</td>\n",
       "      <td>0.198334</td>\n",
       "      <td>0.060319</td>\n",
       "      <td>1.000000</td>\n",
       "      <td>0.148475</td>\n",
       "      <td>-0.064047</td>\n",
       "      <td>0.123736</td>\n",
       "      <td>6.750217e-02</td>\n",
       "    </tr>\n",
       "    <tr>\n",
       "      <th>TOV</th>\n",
       "      <td>-0.265362</td>\n",
       "      <td>-3.671591e-02</td>\n",
       "      <td>-0.164824</td>\n",
       "      <td>-0.019450</td>\n",
       "      <td>0.055306</td>\n",
       "      <td>0.033598</td>\n",
       "      <td>-0.064215</td>\n",
       "      <td>0.095534</td>\n",
       "      <td>-0.187060</td>\n",
       "      <td>-0.216847</td>\n",
       "      <td>...</td>\n",
       "      <td>0.130997</td>\n",
       "      <td>0.039533</td>\n",
       "      <td>0.124114</td>\n",
       "      <td>0.065390</td>\n",
       "      <td>0.062603</td>\n",
       "      <td>0.148475</td>\n",
       "      <td>1.000000</td>\n",
       "      <td>0.145360</td>\n",
       "      <td>-0.027742</td>\n",
       "      <td>8.840813e-03</td>\n",
       "    </tr>\n",
       "    <tr>\n",
       "      <th>PF</th>\n",
       "      <td>-0.232365</td>\n",
       "      <td>1.138589e-01</td>\n",
       "      <td>-0.227693</td>\n",
       "      <td>-0.140231</td>\n",
       "      <td>0.085201</td>\n",
       "      <td>0.110223</td>\n",
       "      <td>0.179171</td>\n",
       "      <td>-0.006978</td>\n",
       "      <td>-0.171787</td>\n",
       "      <td>-0.152329</td>\n",
       "      <td>...</td>\n",
       "      <td>0.108954</td>\n",
       "      <td>-0.123499</td>\n",
       "      <td>-0.013691</td>\n",
       "      <td>0.063443</td>\n",
       "      <td>-0.040640</td>\n",
       "      <td>-0.064047</td>\n",
       "      <td>0.145360</td>\n",
       "      <td>1.000000</td>\n",
       "      <td>0.146711</td>\n",
       "      <td>-9.987697e-02</td>\n",
       "    </tr>\n",
       "    <tr>\n",
       "      <th>PTS</th>\n",
       "      <td>-0.228595</td>\n",
       "      <td>-3.484990e-02</td>\n",
       "      <td>0.379741</td>\n",
       "      <td>0.169977</td>\n",
       "      <td>0.103156</td>\n",
       "      <td>0.857183</td>\n",
       "      <td>0.494712</td>\n",
       "      <td>0.704898</td>\n",
       "      <td>0.106608</td>\n",
       "      <td>-0.090035</td>\n",
       "      <td>...</td>\n",
       "      <td>0.107864</td>\n",
       "      <td>0.193146</td>\n",
       "      <td>0.222269</td>\n",
       "      <td>0.682982</td>\n",
       "      <td>0.163929</td>\n",
       "      <td>0.123736</td>\n",
       "      <td>-0.027742</td>\n",
       "      <td>0.146711</td>\n",
       "      <td>1.000000</td>\n",
       "      <td>1.599979e-01</td>\n",
       "    </tr>\n",
       "    <tr>\n",
       "      <th>Champion</th>\n",
       "      <td>-0.000201</td>\n",
       "      <td>-5.832464e-19</td>\n",
       "      <td>0.422732</td>\n",
       "      <td>0.009091</td>\n",
       "      <td>0.035507</td>\n",
       "      <td>0.110183</td>\n",
       "      <td>-0.050010</td>\n",
       "      <td>0.188039</td>\n",
       "      <td>0.074860</td>\n",
       "      <td>0.001899</td>\n",
       "      <td>...</td>\n",
       "      <td>0.024596</td>\n",
       "      <td>0.153619</td>\n",
       "      <td>0.132611</td>\n",
       "      <td>0.109258</td>\n",
       "      <td>0.085129</td>\n",
       "      <td>0.067502</td>\n",
       "      <td>0.008841</td>\n",
       "      <td>-0.099877</td>\n",
       "      <td>0.159998</td>\n",
       "      <td>1.000000e+00</td>\n",
       "    </tr>\n",
       "  </tbody>\n",
       "</table>\n",
       "<p>24 rows × 24 columns</p>\n",
       "</div>"
      ],
      "text/plain": [
       "              Year          Game       Win      Home        MP        FG  \\\n",
       "Year      1.000000 -1.331054e-02  0.006188  0.001409  0.062345 -0.379231   \n",
       "Game     -0.013311  1.000000e+00  0.003677 -0.005253 -0.065659 -0.093400   \n",
       "Win       0.006188  3.677430e-03  1.000000  0.213639 -0.043698  0.271920   \n",
       "Home      0.001409 -5.253417e-03  0.213639  1.000000 -0.035507  0.138803   \n",
       "MP        0.062345 -6.565935e-02 -0.043698 -0.035507  1.000000  0.096619   \n",
       "FG       -0.379231 -9.339990e-02  0.271920  0.138803  0.096619  1.000000   \n",
       "FGA      -0.327657 -8.321882e-02 -0.065270  0.033589  0.165998  0.661842   \n",
       "FGP      -0.203203 -4.668579e-02  0.423321  0.154757 -0.012400  0.743237   \n",
       "TP        0.730511  1.912542e-02  0.086177  0.010694  0.076089 -0.125821   \n",
       "TPA       0.821542  2.959753e-02 -0.076620  0.002373  0.075116 -0.280371   \n",
       "TPP       0.228981 -4.464085e-02  0.238160 -0.024193  0.048951  0.086429   \n",
       "FT       -0.193305  9.755461e-02  0.213524  0.079472 -0.019296 -0.074661   \n",
       "FTA      -0.193424  9.364297e-02  0.194094  0.080611 -0.000598 -0.076792   \n",
       "FTP       0.003844  1.854969e-02  0.111651  0.024124 -0.039097 -0.009196   \n",
       "ORB      -0.332144  1.554775e-02 -0.030435  0.079811  0.012489  0.195706   \n",
       "DRB       0.160403 -6.172074e-02  0.382820  0.204987  0.068797  0.106977   \n",
       "TRB      -0.119819 -3.492431e-02  0.264256  0.210873  0.060453  0.221248   \n",
       "AST      -0.417414 -5.953611e-02  0.257825  0.188856  0.013441  0.747452   \n",
       "STL      -0.113401 -4.165396e-02  0.138613 -0.021481  0.074910  0.230369   \n",
       "BLK      -0.166928 -6.231746e-02  0.136877  0.095491  0.035952  0.180498   \n",
       "TOV      -0.265362 -3.671591e-02 -0.164824 -0.019450  0.055306  0.033598   \n",
       "PF       -0.232365  1.138589e-01 -0.227693 -0.140231  0.085201  0.110223   \n",
       "PTS      -0.228595 -3.484990e-02  0.379741  0.169977  0.103156  0.857183   \n",
       "Champion -0.000201 -5.832464e-19  0.422732  0.009091  0.035507  0.110183   \n",
       "\n",
       "               FGA       FGP        TP       TPA  ...       ORB       DRB  \\\n",
       "Year     -0.327657 -0.203203  0.730511  0.821542  ... -0.332144  0.160403   \n",
       "Game     -0.083219 -0.046686  0.019125  0.029598  ...  0.015548 -0.061721   \n",
       "Win      -0.065270  0.423321  0.086177 -0.076620  ... -0.030435  0.382820   \n",
       "Home      0.033589  0.154757  0.010694  0.002373  ...  0.079811  0.204987   \n",
       "MP        0.165998 -0.012400  0.076089  0.075116  ...  0.012489  0.068797   \n",
       "FG        0.661842  0.743237 -0.125821 -0.280371  ...  0.195706  0.106977   \n",
       "FGA       1.000000 -0.002879 -0.166104 -0.163591  ...  0.602979  0.076421   \n",
       "FGP      -0.002879  1.000000 -0.010441 -0.219670  ... -0.270695  0.068360   \n",
       "TP       -0.166104 -0.010441  1.000000  0.886651  ... -0.298258  0.150136   \n",
       "TPA      -0.163591 -0.219670  0.886651  1.000000  ... -0.265372  0.138626   \n",
       "TPP      -0.110906  0.215522  0.540662  0.244336  ... -0.219782  0.034694   \n",
       "FT       -0.150730  0.035571 -0.151324 -0.192252  ...  0.029517  0.103802   \n",
       "FTA      -0.157041  0.034522 -0.150955 -0.192628  ...  0.051994  0.115193   \n",
       "FTP      -0.030003  0.022280 -0.014693 -0.020693  ... -0.080614  0.002042   \n",
       "ORB       0.602979 -0.270695 -0.298258 -0.265372  ...  1.000000 -0.074155   \n",
       "DRB       0.076421  0.068360  0.150136  0.138626  ... -0.074155  1.000000   \n",
       "TRB       0.492380 -0.144282 -0.103036 -0.087904  ...  0.666376  0.694147   \n",
       "AST       0.449052  0.590541 -0.084002 -0.250801  ...  0.113831  0.127298   \n",
       "STL       0.250677  0.087206 -0.100500 -0.125434  ...  0.110083 -0.093302   \n",
       "BLK       0.155180  0.094161 -0.131117 -0.164554  ...  0.109261  0.223660   \n",
       "TOV      -0.064215  0.095534 -0.187060 -0.216847  ...  0.130997  0.039533   \n",
       "PF        0.179171 -0.006978 -0.171787 -0.152329  ...  0.108954 -0.123499   \n",
       "PTS       0.494712  0.704898  0.106608 -0.090035  ...  0.107864  0.193146   \n",
       "Champion -0.050010  0.188039  0.074860  0.001899  ...  0.024596  0.153619   \n",
       "\n",
       "               TRB       AST       STL       BLK       TOV        PF  \\\n",
       "Year     -0.119819 -0.417414 -0.113401 -0.166928 -0.265362 -0.232365   \n",
       "Game     -0.034924 -0.059536 -0.041654 -0.062317 -0.036716  0.113859   \n",
       "Win       0.264256  0.257825  0.138613  0.136877 -0.164824 -0.227693   \n",
       "Home      0.210873  0.188856 -0.021481  0.095491 -0.019450 -0.140231   \n",
       "MP        0.060453  0.013441  0.074910  0.035952  0.055306  0.085201   \n",
       "FG        0.221248  0.747452  0.230369  0.180498  0.033598  0.110223   \n",
       "FGA       0.492380  0.449052  0.250677  0.155180 -0.064215  0.179171   \n",
       "FGP      -0.144282  0.590541  0.087206  0.094161  0.095534 -0.006978   \n",
       "TP       -0.103036 -0.084002 -0.100500 -0.131117 -0.187060 -0.171787   \n",
       "TPA      -0.087904 -0.250801 -0.125434 -0.164554 -0.216847 -0.152329   \n",
       "TPP      -0.132843  0.100496 -0.004014 -0.026957 -0.116720 -0.052561   \n",
       "FT        0.098915  0.026946 -0.043316 -0.011269 -0.007806  0.199939   \n",
       "FTA       0.123657  0.031382 -0.049522 -0.001726  0.009712  0.212227   \n",
       "FTP      -0.056661 -0.019828  0.012125 -0.022804 -0.070729 -0.031323   \n",
       "ORB       0.666376  0.113831  0.110083  0.109261  0.130997  0.108954   \n",
       "DRB       0.694147  0.127298 -0.093302  0.223660  0.039533 -0.123499   \n",
       "TRB       1.000000  0.177342  0.009701  0.246092  0.124114 -0.013691   \n",
       "AST       0.177342  1.000000  0.194284  0.198334  0.065390  0.063443   \n",
       "STL       0.009701  0.194284  1.000000  0.060319  0.062603 -0.040640   \n",
       "BLK       0.246092  0.198334  0.060319  1.000000  0.148475 -0.064047   \n",
       "TOV       0.124114  0.065390  0.062603  0.148475  1.000000  0.145360   \n",
       "PF       -0.013691  0.063443 -0.040640 -0.064047  0.145360  1.000000   \n",
       "PTS       0.222269  0.682982  0.163929  0.123736 -0.027742  0.146711   \n",
       "Champion  0.132611  0.109258  0.085129  0.067502  0.008841 -0.099877   \n",
       "\n",
       "               PTS      Champion  \n",
       "Year     -0.228595 -2.013424e-04  \n",
       "Game     -0.034850 -5.832464e-19  \n",
       "Win       0.379741  4.227316e-01  \n",
       "Home      0.169977  9.090909e-03  \n",
       "MP        0.103156  3.550684e-02  \n",
       "FG        0.857183  1.101834e-01  \n",
       "FGA       0.494712 -5.000973e-02  \n",
       "FGP       0.704898  1.880391e-01  \n",
       "TP        0.106608  7.486016e-02  \n",
       "TPA      -0.090035  1.898714e-03  \n",
       "TPP       0.233961  1.298164e-01  \n",
       "FT        0.360928  7.457026e-02  \n",
       "FTA       0.323705  1.075727e-01  \n",
       "FTP       0.150354 -6.299454e-02  \n",
       "ORB       0.107864  2.459599e-02  \n",
       "DRB       0.193146  1.536188e-01  \n",
       "TRB       0.222269  1.326106e-01  \n",
       "AST       0.682982  1.092584e-01  \n",
       "STL       0.163929  8.512897e-02  \n",
       "BLK       0.123736  6.750217e-02  \n",
       "TOV      -0.027742  8.840813e-03  \n",
       "PF        0.146711 -9.987697e-02  \n",
       "PTS       1.000000  1.599979e-01  \n",
       "Champion  0.159998  1.000000e+00  \n",
       "\n",
       "[24 rows x 24 columns]"
      ]
     },
     "execution_count": 22,
     "metadata": {},
     "output_type": "execute_result"
    }
   ],
   "source": [
    "corr_matrix = df_raw.corr()\n",
    "corr_matrix"
   ]
  },
  {
   "cell_type": "code",
   "execution_count": 53,
   "metadata": {},
   "outputs": [
    {
     "data": {
      "text/plain": [
       "<matplotlib.legend.Legend at 0x1a1eae8310>"
      ]
     },
     "execution_count": 53,
     "metadata": {},
     "output_type": "execute_result"
    },
    {
     "data": {
      "image/png": "[encoded data removed]",
      "text/plain": [
       "<Figure size 432x288 with 1 Axes>"
      ]
     },
     "metadata": {
      "needs_background": "light"
     },
     "output_type": "display_data"
    }
   ],
   "source": [
    "df_raw_champs.PTS.plot(kind='hist',bins=30, alpha=0.9, color='royalblue', label='champions')\n",
    "df_raw_ru.PTS.plot(kind='hist',bins=30, alpha=0.6, color='orange', label='runner up')\n",
    "plt.legend(loc='upper right', prop={'size': 8})"
   ]
  },
  {
   "cell_type": "markdown",
   "metadata": {},
   "source": [
    "The following graphs were adapted from: https://www.kaggle.com/jasonevangelista/nba-data-story-offensive-stats\n",
    "kaggle kernel\n",
    "\n",
    "These features were rectroactively chosen based on feature importance. \n",
    "FTP, DRB, FGP, TOV"
   ]
  },
  {
   "cell_type": "code",
   "execution_count": 136,
   "metadata": {},
   "outputs": [
    {
     "data": {
      "text/plain": [
       "<matplotlib.legend.Legend at 0x1a23faef50>"
      ]
     },
     "execution_count": 136,
     "metadata": {},
     "output_type": "execute_result"
    },
    {
     "data": {
      "image/png": "[encoded data removed]",
      "text/plain": [
       "<Figure size 432x288 with 1 Axes>"
      ]
     },
     "metadata": {
      "needs_background": "light"
     },
     "output_type": "display_data"
    }
   ],
   "source": [
    "# Average PTS in Finals games per year\n",
    "means_wins = df_raw_champs.groupby('Year')['FTP'].mean()\n",
    "means_loss = df_raw_ru.groupby('Year')['FTP'].mean()\n",
    "plt.xlabel('Years')\n",
    "plt.ylabel('FTP')\n",
    "plt.title('Average Free Throw % in the NBA Finals')\n",
    "plt.plot(means_wins, label=\"Win\")\n",
    "plt.plot(means_loss, label=\"Loss\")\n",
    "plt.legend(loc='lower left', prop={'size': 10})"
   ]
  },
  {
   "cell_type": "code",
   "execution_count": 137,
   "metadata": {},
   "outputs": [
    {
     "data": {
      "text/plain": [
       "<matplotlib.legend.Legend at 0x1a2c6f0e50>"
      ]
     },
     "execution_count": 137,
     "metadata": {},
     "output_type": "execute_result"
    },
    {
     "data": {
      "image/png": "[encoded data removed]",
      "text/plain": [
       "<Figure size 432x288 with 1 Axes>"
      ]
     },
     "metadata": {
      "needs_background": "light"
     },
     "output_type": "display_data"
    }
   ],
   "source": [
    "# Average FG% in Finals games per year\n",
    "means_wins = df_raw_champs.groupby('Year')['DRB'].mean()\n",
    "means_loss = df_raw_ru.groupby('Year')['DRB'].mean()\n",
    "plt.xlabel('Years')\n",
    "plt.ylabel('DRB')\n",
    "plt.title('Average Defensive Rebounds in the NBA')\n",
    "plt.plot(means_wins, label=\"Win\")\n",
    "plt.plot(means_loss, label=\"Loss\")\n",
    "plt.legend(loc='lower left', prop={'size': 10})"
   ]
  },
  {
   "cell_type": "code",
   "execution_count": 138,
   "metadata": {},
   "outputs": [
    {
     "data": {
      "text/plain": [
       "<matplotlib.legend.Legend at 0x1a2ec8a850>"
      ]
     },
     "execution_count": 138,
     "metadata": {},
     "output_type": "execute_result"
    },
    {
     "data": {
      "image/png": "[encoded data removed]",
      "text/plain": [
       "<Figure size 432x288 with 1 Axes>"
      ]
     },
     "metadata": {
      "needs_background": "light"
     },
     "output_type": "display_data"
    }
   ],
   "source": [
    "# Average AST in Finals games per year\n",
    "means_wins = df_raw_champs.groupby('Year')['FGP'].mean()\n",
    "means_loss = df_raw_ru.groupby('Year')['FGP'].mean()\n",
    "plt.xlabel('Years')\n",
    "plt.ylabel('FGP')\n",
    "plt.title('Average Field Goal % in the NBA Finals')\n",
    "plt.plot(means_wins, label=\"Win\")\n",
    "plt.plot(means_loss, label=\"Loss\")\n",
    "plt.legend(loc='lower left', prop={'size': 10})"
   ]
  },
  {
   "cell_type": "code",
   "execution_count": 139,
   "metadata": {},
   "outputs": [
    {
     "data": {
      "text/plain": [
       "<matplotlib.legend.Legend at 0x1a23ffc6d0>"
      ]
     },
     "execution_count": 139,
     "metadata": {},
     "output_type": "execute_result"
    },
    {
     "data": {
      "image/png": "[encoded data removed]",
      "text/plain": [
       "<Figure size 432x288 with 1 Axes>"
      ]
     },
     "metadata": {
      "needs_background": "light"
     },
     "output_type": "display_data"
    }
   ],
   "source": [
    "# Average AST in Finals games per year\n",
    "means_wins = df_raw_champs.groupby('Year')['TOV'].mean()\n",
    "means_loss = df_raw_ru.groupby('Year')['TOV'].mean()\n",
    "plt.xlabel('Years')\n",
    "plt.ylabel('TOV')\n",
    "plt.title('Average Turnovers in the NBA Finals')\n",
    "plt.plot(means_wins, label=\"Win\")\n",
    "plt.plot(means_loss, label=\"Loss\")\n",
    "plt.legend(loc='lower left', prop={'size': 10})"
   ]
  },
  {
   "cell_type": "markdown",
   "metadata": {},
   "source": [
    "## Drop/preprocess columns"
   ]
  },
  {
   "cell_type": "code",
   "execution_count": 55,
   "metadata": {},
   "outputs": [],
   "source": [
    "# change overtime to 1 if over, 0 if not\n",
    "df_raw['MP'].values[df_raw['MP'].values > 240] = 1\n",
    "df_raw['MP'].values[df_raw['MP'].values <= 240] = 0"
   ]
  },
  {
   "cell_type": "code",
   "execution_count": 58,
   "metadata": {},
   "outputs": [],
   "source": [
    "# win is a clear predictor of champion/runner up\n",
    "df_raw.drop(['Win'],axis=1, inplace=True)"
   ]
  },
  {
   "cell_type": "markdown",
   "metadata": {
    "colab_type": "text",
    "id": "SsK9YILb4AN6"
   },
   "source": [
    "## Getting the name of the target"
   ]
  },
  {
   "cell_type": "code",
   "execution_count": 59,
   "metadata": {
    "colab": {},
    "colab_type": "code",
    "id": "3WvEyY-x4AN7"
   },
   "outputs": [],
   "source": [
    "target = 'Champion'"
   ]
  },
  {
   "cell_type": "markdown",
   "metadata": {
    "colab_type": "text",
    "id": "jGLoCbmO4AN9"
   },
   "source": [
    "## Dividing data into Training (+ Validation) and Testing\n",
    "The code below shows how to divide the training data into training (80%) and testing (20%) and trainting (80%) and validation (20%) (using sklearn train_test_split with random_state=42 and stratify)."
   ]
  },
  {
   "cell_type": "code",
   "execution_count": 60,
   "metadata": {
    "colab": {},
    "colab_type": "code",
    "id": "a2P4L1vS4AN_"
   },
   "outputs": [],
   "source": [
    "from sklearn.model_selection import train_test_split\n",
    "\n",
    "# divide into training and testing\n",
    "df_raw_train, df_raw_test = train_test_split(df_raw, test_size=0.2)\n",
    "\n",
    "# Reset the index\n",
    "df_raw_train, df_raw_test = df_raw_train.reset_index(drop=True), df_raw_test.reset_index(drop=True)\n",
    "\n",
    "# drop the target col in the testing data\n",
    "df_raw_test.drop(['Champion'], axis=1, inplace=True)\n",
    "\n",
    "# Make a copy of df_raw_train\n",
    "df_train = df_raw_train.copy(deep=True)\n",
    "\n",
    "# Make a copy of df_raw_train\n",
    "df_test = df_raw_test.copy(deep=True)"
   ]
  },
  {
   "cell_type": "code",
   "execution_count": 61,
   "metadata": {},
   "outputs": [
    {
     "data": {
      "text/html": [
       "<div>\n",
       "<style scoped>\n",
       "    .dataframe tbody tr th:only-of-type {\n",
       "        vertical-align: middle;\n",
       "    }\n",
       "\n",
       "    .dataframe tbody tr th {\n",
       "        vertical-align: top;\n",
       "    }\n",
       "\n",
       "    .dataframe thead th {\n",
       "        text-align: right;\n",
       "    }\n",
       "</style>\n",
       "<table border=\"1\" class=\"dataframe\">\n",
       "  <thead>\n",
       "    <tr style=\"text-align: right;\">\n",
       "      <th></th>\n",
       "      <th># rows</th>\n",
       "      <th># columns</th>\n",
       "    </tr>\n",
       "  </thead>\n",
       "  <tbody>\n",
       "    <tr>\n",
       "      <th>0</th>\n",
       "      <td>352</td>\n",
       "      <td>24</td>\n",
       "    </tr>\n",
       "  </tbody>\n",
       "</table>\n",
       "</div>"
      ],
      "text/plain": [
       "   # rows  # columns\n",
       "0     352         24"
      ]
     },
     "execution_count": 61,
     "metadata": {},
     "output_type": "execute_result"
    }
   ],
   "source": [
    "# Print the dimension of df_train\n",
    "pd.DataFrame([[df_train.shape[0], df_train.shape[1]]], columns=['# rows', '# columns'])"
   ]
  },
  {
   "cell_type": "code",
   "execution_count": 62,
   "metadata": {},
   "outputs": [
    {
     "data": {
      "text/html": [
       "<div>\n",
       "<style scoped>\n",
       "    .dataframe tbody tr th:only-of-type {\n",
       "        vertical-align: middle;\n",
       "    }\n",
       "\n",
       "    .dataframe tbody tr th {\n",
       "        vertical-align: top;\n",
       "    }\n",
       "\n",
       "    .dataframe thead th {\n",
       "        text-align: right;\n",
       "    }\n",
       "</style>\n",
       "<table border=\"1\" class=\"dataframe\">\n",
       "  <thead>\n",
       "    <tr style=\"text-align: right;\">\n",
       "      <th></th>\n",
       "      <th># rows</th>\n",
       "      <th># columns</th>\n",
       "    </tr>\n",
       "  </thead>\n",
       "  <tbody>\n",
       "    <tr>\n",
       "      <th>0</th>\n",
       "      <td>88</td>\n",
       "      <td>23</td>\n",
       "    </tr>\n",
       "  </tbody>\n",
       "</table>\n",
       "</div>"
      ],
      "text/plain": [
       "   # rows  # columns\n",
       "0      88         23"
      ]
     },
     "execution_count": 62,
     "metadata": {},
     "output_type": "execute_result"
    }
   ],
   "source": [
    "# Print the dimension of df_test\n",
    "pd.DataFrame([[df_test.shape[0], df_test.shape[1]]], columns=['# rows', '# columns'])"
   ]
  },
  {
   "cell_type": "code",
   "execution_count": 63,
   "metadata": {},
   "outputs": [
    {
     "data": {
      "text/html": [
       "<div>\n",
       "<style scoped>\n",
       "    .dataframe tbody tr th:only-of-type {\n",
       "        vertical-align: middle;\n",
       "    }\n",
       "\n",
       "    .dataframe tbody tr th {\n",
       "        vertical-align: top;\n",
       "    }\n",
       "\n",
       "    .dataframe thead th {\n",
       "        text-align: right;\n",
       "    }\n",
       "</style>\n",
       "<table border=\"1\" class=\"dataframe\">\n",
       "  <thead>\n",
       "    <tr style=\"text-align: right;\">\n",
       "      <th></th>\n",
       "      <th>Year</th>\n",
       "      <th>Team</th>\n",
       "      <th>Game</th>\n",
       "      <th>Home</th>\n",
       "      <th>MP</th>\n",
       "      <th>FG</th>\n",
       "      <th>FGA</th>\n",
       "      <th>FGP</th>\n",
       "      <th>TP</th>\n",
       "      <th>TPA</th>\n",
       "      <th>...</th>\n",
       "      <th>ORB</th>\n",
       "      <th>DRB</th>\n",
       "      <th>TRB</th>\n",
       "      <th>AST</th>\n",
       "      <th>STL</th>\n",
       "      <th>BLK</th>\n",
       "      <th>TOV</th>\n",
       "      <th>PF</th>\n",
       "      <th>PTS</th>\n",
       "      <th>Champion</th>\n",
       "    </tr>\n",
       "  </thead>\n",
       "  <tbody>\n",
       "    <tr>\n",
       "      <th>0</th>\n",
       "      <td>2013</td>\n",
       "      <td>Spurs</td>\n",
       "      <td>4</td>\n",
       "      <td>1</td>\n",
       "      <td>0</td>\n",
       "      <td>31</td>\n",
       "      <td>70</td>\n",
       "      <td>0.443</td>\n",
       "      <td>8</td>\n",
       "      <td>16</td>\n",
       "      <td>...</td>\n",
       "      <td>5</td>\n",
       "      <td>31</td>\n",
       "      <td>36</td>\n",
       "      <td>21</td>\n",
       "      <td>5</td>\n",
       "      <td>4</td>\n",
       "      <td>18</td>\n",
       "      <td>18</td>\n",
       "      <td>93</td>\n",
       "      <td>0</td>\n",
       "    </tr>\n",
       "    <tr>\n",
       "      <th>1</th>\n",
       "      <td>2014</td>\n",
       "      <td>Heat</td>\n",
       "      <td>1</td>\n",
       "      <td>0</td>\n",
       "      <td>0</td>\n",
       "      <td>37</td>\n",
       "      <td>78</td>\n",
       "      <td>0.474</td>\n",
       "      <td>12</td>\n",
       "      <td>29</td>\n",
       "      <td>...</td>\n",
       "      <td>7</td>\n",
       "      <td>22</td>\n",
       "      <td>29</td>\n",
       "      <td>16</td>\n",
       "      <td>14</td>\n",
       "      <td>2</td>\n",
       "      <td>16</td>\n",
       "      <td>21</td>\n",
       "      <td>95</td>\n",
       "      <td>0</td>\n",
       "    </tr>\n",
       "    <tr>\n",
       "      <th>2</th>\n",
       "      <td>1995</td>\n",
       "      <td>Magic</td>\n",
       "      <td>2</td>\n",
       "      <td>1</td>\n",
       "      <td>0</td>\n",
       "      <td>39</td>\n",
       "      <td>85</td>\n",
       "      <td>0.459</td>\n",
       "      <td>10</td>\n",
       "      <td>26</td>\n",
       "      <td>...</td>\n",
       "      <td>14</td>\n",
       "      <td>27</td>\n",
       "      <td>41</td>\n",
       "      <td>24</td>\n",
       "      <td>3</td>\n",
       "      <td>1</td>\n",
       "      <td>15</td>\n",
       "      <td>26</td>\n",
       "      <td>106</td>\n",
       "      <td>0</td>\n",
       "    </tr>\n",
       "    <tr>\n",
       "      <th>3</th>\n",
       "      <td>2012</td>\n",
       "      <td>Heat</td>\n",
       "      <td>4</td>\n",
       "      <td>1</td>\n",
       "      <td>0</td>\n",
       "      <td>38</td>\n",
       "      <td>79</td>\n",
       "      <td>0.481</td>\n",
       "      <td>10</td>\n",
       "      <td>26</td>\n",
       "      <td>...</td>\n",
       "      <td>9</td>\n",
       "      <td>31</td>\n",
       "      <td>40</td>\n",
       "      <td>19</td>\n",
       "      <td>8</td>\n",
       "      <td>2</td>\n",
       "      <td>9</td>\n",
       "      <td>18</td>\n",
       "      <td>104</td>\n",
       "      <td>1</td>\n",
       "    </tr>\n",
       "    <tr>\n",
       "      <th>4</th>\n",
       "      <td>2011</td>\n",
       "      <td>Heat</td>\n",
       "      <td>6</td>\n",
       "      <td>1</td>\n",
       "      <td>0</td>\n",
       "      <td>34</td>\n",
       "      <td>72</td>\n",
       "      <td>0.472</td>\n",
       "      <td>7</td>\n",
       "      <td>23</td>\n",
       "      <td>...</td>\n",
       "      <td>9</td>\n",
       "      <td>30</td>\n",
       "      <td>39</td>\n",
       "      <td>20</td>\n",
       "      <td>7</td>\n",
       "      <td>3</td>\n",
       "      <td>16</td>\n",
       "      <td>14</td>\n",
       "      <td>95</td>\n",
       "      <td>0</td>\n",
       "    </tr>\n",
       "  </tbody>\n",
       "</table>\n",
       "<p>5 rows × 24 columns</p>\n",
       "</div>"
      ],
      "text/plain": [
       "   Year   Team  Game  Home  MP  FG  FGA    FGP  TP  TPA  ...  ORB  DRB  TRB  \\\n",
       "0  2013  Spurs     4     1   0  31   70  0.443   8   16  ...    5   31   36   \n",
       "1  2014   Heat     1     0   0  37   78  0.474  12   29  ...    7   22   29   \n",
       "2  1995  Magic     2     1   0  39   85  0.459  10   26  ...   14   27   41   \n",
       "3  2012   Heat     4     1   0  38   79  0.481  10   26  ...    9   31   40   \n",
       "4  2011   Heat     6     1   0  34   72  0.472   7   23  ...    9   30   39   \n",
       "\n",
       "   AST  STL  BLK  TOV  PF  PTS  Champion  \n",
       "0   21    5    4   18  18   93         0  \n",
       "1   16   14    2   16  21   95         0  \n",
       "2   24    3    1   15  26  106         0  \n",
       "3   19    8    2    9  18  104         1  \n",
       "4   20    7    3   16  14   95         0  \n",
       "\n",
       "[5 rows x 24 columns]"
      ]
     },
     "execution_count": 63,
     "metadata": {},
     "output_type": "execute_result"
    }
   ],
   "source": [
    "# Print the first 5 rows of df_train\n",
    "df_train.head()"
   ]
  },
  {
   "cell_type": "code",
   "execution_count": 64,
   "metadata": {},
   "outputs": [
    {
     "data": {
      "text/html": [
       "<div>\n",
       "<style scoped>\n",
       "    .dataframe tbody tr th:only-of-type {\n",
       "        vertical-align: middle;\n",
       "    }\n",
       "\n",
       "    .dataframe tbody tr th {\n",
       "        vertical-align: top;\n",
       "    }\n",
       "\n",
       "    .dataframe thead th {\n",
       "        text-align: right;\n",
       "    }\n",
       "</style>\n",
       "<table border=\"1\" class=\"dataframe\">\n",
       "  <thead>\n",
       "    <tr style=\"text-align: right;\">\n",
       "      <th></th>\n",
       "      <th>Year</th>\n",
       "      <th>Team</th>\n",
       "      <th>Game</th>\n",
       "      <th>Home</th>\n",
       "      <th>MP</th>\n",
       "      <th>FG</th>\n",
       "      <th>FGA</th>\n",
       "      <th>FGP</th>\n",
       "      <th>TP</th>\n",
       "      <th>TPA</th>\n",
       "      <th>...</th>\n",
       "      <th>FTP</th>\n",
       "      <th>ORB</th>\n",
       "      <th>DRB</th>\n",
       "      <th>TRB</th>\n",
       "      <th>AST</th>\n",
       "      <th>STL</th>\n",
       "      <th>BLK</th>\n",
       "      <th>TOV</th>\n",
       "      <th>PF</th>\n",
       "      <th>PTS</th>\n",
       "    </tr>\n",
       "  </thead>\n",
       "  <tbody>\n",
       "    <tr>\n",
       "      <th>0</th>\n",
       "      <td>1993</td>\n",
       "      <td>Bulls</td>\n",
       "      <td>1</td>\n",
       "      <td>0</td>\n",
       "      <td>0</td>\n",
       "      <td>43</td>\n",
       "      <td>81</td>\n",
       "      <td>0.531</td>\n",
       "      <td>3</td>\n",
       "      <td>8</td>\n",
       "      <td>...</td>\n",
       "      <td>0.579</td>\n",
       "      <td>10</td>\n",
       "      <td>31</td>\n",
       "      <td>41</td>\n",
       "      <td>28</td>\n",
       "      <td>10</td>\n",
       "      <td>8</td>\n",
       "      <td>12</td>\n",
       "      <td>17</td>\n",
       "      <td>100</td>\n",
       "    </tr>\n",
       "    <tr>\n",
       "      <th>1</th>\n",
       "      <td>1996</td>\n",
       "      <td>Bulls</td>\n",
       "      <td>4</td>\n",
       "      <td>0</td>\n",
       "      <td>0</td>\n",
       "      <td>32</td>\n",
       "      <td>80</td>\n",
       "      <td>0.400</td>\n",
       "      <td>6</td>\n",
       "      <td>24</td>\n",
       "      <td>...</td>\n",
       "      <td>0.842</td>\n",
       "      <td>15</td>\n",
       "      <td>21</td>\n",
       "      <td>36</td>\n",
       "      <td>22</td>\n",
       "      <td>5</td>\n",
       "      <td>3</td>\n",
       "      <td>17</td>\n",
       "      <td>24</td>\n",
       "      <td>86</td>\n",
       "    </tr>\n",
       "    <tr>\n",
       "      <th>2</th>\n",
       "      <td>1996</td>\n",
       "      <td>Bulls</td>\n",
       "      <td>2</td>\n",
       "      <td>1</td>\n",
       "      <td>0</td>\n",
       "      <td>30</td>\n",
       "      <td>77</td>\n",
       "      <td>0.390</td>\n",
       "      <td>4</td>\n",
       "      <td>21</td>\n",
       "      <td>...</td>\n",
       "      <td>0.667</td>\n",
       "      <td>20</td>\n",
       "      <td>25</td>\n",
       "      <td>45</td>\n",
       "      <td>22</td>\n",
       "      <td>10</td>\n",
       "      <td>5</td>\n",
       "      <td>15</td>\n",
       "      <td>27</td>\n",
       "      <td>92</td>\n",
       "    </tr>\n",
       "    <tr>\n",
       "      <th>3</th>\n",
       "      <td>1986</td>\n",
       "      <td>Celtics</td>\n",
       "      <td>6</td>\n",
       "      <td>1</td>\n",
       "      <td>0</td>\n",
       "      <td>49</td>\n",
       "      <td>101</td>\n",
       "      <td>0.485</td>\n",
       "      <td>1</td>\n",
       "      <td>2</td>\n",
       "      <td>...</td>\n",
       "      <td>0.667</td>\n",
       "      <td>23</td>\n",
       "      <td>33</td>\n",
       "      <td>56</td>\n",
       "      <td>34</td>\n",
       "      <td>9</td>\n",
       "      <td>13</td>\n",
       "      <td>14</td>\n",
       "      <td>23</td>\n",
       "      <td>111</td>\n",
       "    </tr>\n",
       "    <tr>\n",
       "      <th>4</th>\n",
       "      <td>2011</td>\n",
       "      <td>Heat</td>\n",
       "      <td>4</td>\n",
       "      <td>0</td>\n",
       "      <td>0</td>\n",
       "      <td>32</td>\n",
       "      <td>75</td>\n",
       "      <td>0.427</td>\n",
       "      <td>2</td>\n",
       "      <td>14</td>\n",
       "      <td>...</td>\n",
       "      <td>0.708</td>\n",
       "      <td>15</td>\n",
       "      <td>29</td>\n",
       "      <td>44</td>\n",
       "      <td>19</td>\n",
       "      <td>8</td>\n",
       "      <td>5</td>\n",
       "      <td>13</td>\n",
       "      <td>23</td>\n",
       "      <td>83</td>\n",
       "    </tr>\n",
       "  </tbody>\n",
       "</table>\n",
       "<p>5 rows × 23 columns</p>\n",
       "</div>"
      ],
      "text/plain": [
       "   Year     Team  Game  Home  MP  FG  FGA    FGP  TP  TPA  ...    FTP  ORB  \\\n",
       "0  1993    Bulls     1     0   0  43   81  0.531   3    8  ...  0.579   10   \n",
       "1  1996    Bulls     4     0   0  32   80  0.400   6   24  ...  0.842   15   \n",
       "2  1996    Bulls     2     1   0  30   77  0.390   4   21  ...  0.667   20   \n",
       "3  1986  Celtics     6     1   0  49  101  0.485   1    2  ...  0.667   23   \n",
       "4  2011     Heat     4     0   0  32   75  0.427   2   14  ...  0.708   15   \n",
       "\n",
       "   DRB  TRB  AST  STL  BLK  TOV  PF  PTS  \n",
       "0   31   41   28   10    8   12  17  100  \n",
       "1   21   36   22    5    3   17  24   86  \n",
       "2   25   45   22   10    5   15  27   92  \n",
       "3   33   56   34    9   13   14  23  111  \n",
       "4   29   44   19    8    5   13  23   83  \n",
       "\n",
       "[5 rows x 23 columns]"
      ]
     },
     "execution_count": 64,
     "metadata": {},
     "output_type": "execute_result"
    }
   ],
   "source": [
    "# Print the first 5 rows of df_test\n",
    "df_test.head()"
   ]
  },
  {
   "cell_type": "code",
   "execution_count": 65,
   "metadata": {},
   "outputs": [],
   "source": [
    "# Divide the training data into training (80%) and validation (20%)\n",
    "df_train, df_valid = train_test_split(df_train, train_size=0.8, random_state=42, stratify=df_train[target])\n",
    "\n",
    "# Reset the index\n",
    "df_train, df_valid = df_train.reset_index(drop=True), df_valid.reset_index(drop=True)"
   ]
  },
  {
   "cell_type": "code",
   "execution_count": 66,
   "metadata": {
    "colab": {
     "base_uri": "https://localhost:8080/",
     "height": 80
    },
    "colab_type": "code",
    "id": "_RSh3LIE4AOA",
    "outputId": "3de946f0-3d7c-4360-d326-fd305af14304"
   },
   "outputs": [
    {
     "data": {
      "text/html": [
       "<div>\n",
       "<style scoped>\n",
       "    .dataframe tbody tr th:only-of-type {\n",
       "        vertical-align: middle;\n",
       "    }\n",
       "\n",
       "    .dataframe tbody tr th {\n",
       "        vertical-align: top;\n",
       "    }\n",
       "\n",
       "    .dataframe thead th {\n",
       "        text-align: right;\n",
       "    }\n",
       "</style>\n",
       "<table border=\"1\" class=\"dataframe\">\n",
       "  <thead>\n",
       "    <tr style=\"text-align: right;\">\n",
       "      <th></th>\n",
       "      <th># rows</th>\n",
       "      <th># columns</th>\n",
       "    </tr>\n",
       "  </thead>\n",
       "  <tbody>\n",
       "    <tr>\n",
       "      <th>0</th>\n",
       "      <td>281</td>\n",
       "      <td>24</td>\n",
       "    </tr>\n",
       "  </tbody>\n",
       "</table>\n",
       "</div>"
      ],
      "text/plain": [
       "   # rows  # columns\n",
       "0     281         24"
      ]
     },
     "execution_count": 66,
     "metadata": {},
     "output_type": "execute_result"
    }
   ],
   "source": [
    "# Print the dimension of df_train\n",
    "pd.DataFrame([[df_train.shape[0], df_train.shape[1]]], columns=['# rows', '# columns'])"
   ]
  },
  {
   "cell_type": "code",
   "execution_count": 67,
   "metadata": {
    "colab": {
     "base_uri": "https://localhost:8080/",
     "height": 80
    },
    "colab_type": "code",
    "id": "A56CaqhH4AOE",
    "outputId": "764008a4-2cd7-492c-9829-4bb9fe0cfeb3",
    "scrolled": true
   },
   "outputs": [
    {
     "data": {
      "text/html": [
       "<div>\n",
       "<style scoped>\n",
       "    .dataframe tbody tr th:only-of-type {\n",
       "        vertical-align: middle;\n",
       "    }\n",
       "\n",
       "    .dataframe tbody tr th {\n",
       "        vertical-align: top;\n",
       "    }\n",
       "\n",
       "    .dataframe thead th {\n",
       "        text-align: right;\n",
       "    }\n",
       "</style>\n",
       "<table border=\"1\" class=\"dataframe\">\n",
       "  <thead>\n",
       "    <tr style=\"text-align: right;\">\n",
       "      <th></th>\n",
       "      <th># rows</th>\n",
       "      <th># columns</th>\n",
       "    </tr>\n",
       "  </thead>\n",
       "  <tbody>\n",
       "    <tr>\n",
       "      <th>0</th>\n",
       "      <td>71</td>\n",
       "      <td>24</td>\n",
       "    </tr>\n",
       "  </tbody>\n",
       "</table>\n",
       "</div>"
      ],
      "text/plain": [
       "   # rows  # columns\n",
       "0      71         24"
      ]
     },
     "execution_count": 67,
     "metadata": {},
     "output_type": "execute_result"
    }
   ],
   "source": [
    "# Print the dimension of df_valid\n",
    "pd.DataFrame([[df_valid.shape[0], df_valid.shape[1]]], columns=['# rows', '# columns'])"
   ]
  },
  {
   "cell_type": "markdown",
   "metadata": {
    "colab_type": "text",
    "id": "6d0QBeMV4AOU"
   },
   "source": [
    "## Handling Missing Data"
   ]
  },
  {
   "cell_type": "markdown",
   "metadata": {
    "colab_type": "text",
    "id": "ei8r0bJP4AOU"
   },
   "source": [
    "### Combining the training, validation and testing data\n",
    "The code below shows how to combine the training, validation and testing data (using pandas concat)."
   ]
  },
  {
   "cell_type": "code",
   "execution_count": 68,
   "metadata": {
    "colab": {},
    "colab_type": "code",
    "id": "vcwDyT7r4AOV"
   },
   "outputs": [],
   "source": [
    "# Combine df_train, df_valid and df_test\n",
    "df = pd.concat([df_train, df_valid, df_test], sort=False)"
   ]
  },
  {
   "cell_type": "markdown",
   "metadata": {
    "colab_type": "text",
    "id": "_qlzJj8P4AOW"
   },
   "source": [
    "### Identifying missing values"
   ]
  },
  {
   "cell_type": "markdown",
   "metadata": {
    "colab_type": "text",
    "id": "_skM2TDr4AOX"
   },
   "source": [
    "The code below shows how to find variables with NaN (using pandas DataFrame.isna), their proportion of NaN and dtype (data type objects, using pandas Series.dtype)."
   ]
  },
  {
   "cell_type": "code",
   "execution_count": 69,
   "metadata": {
    "colab": {},
    "colab_type": "code",
    "id": "mX6XP5fR4AOX"
   },
   "outputs": [],
   "source": [
    "def nan_checker(df):\n",
    "    \"\"\"\n",
    "    The NaN checker\n",
    "\n",
    "    Parameters\n",
    "    ----------\n",
    "    df : dataframe\n",
    "    \n",
    "    Returns\n",
    "    ----------\n",
    "    The dataframe of variables with NaN, their proportion of NaN and dtype\n",
    "    \"\"\"\n",
    "    \n",
    "    # Get the dataframe of variables with NaN, their proportion of NaN and dtype\n",
    "    df_nan = pd.DataFrame([[var, df[var].isna().sum() / df.shape[0], df[var].dtype]\n",
    "                           for var in df.columns if df[var].isna().sum() > 0],\n",
    "                          columns=['var', 'proportion', 'dtype'])\n",
    "    \n",
    "    # Sort df_nan in accending order of the proportion of NaN\n",
    "    df_nan = df_nan.sort_values(by='proportion', ascending=False).reset_index(drop=True)\n",
    "    \n",
    "    return df_nan"
   ]
  },
  {
   "cell_type": "code",
   "execution_count": 70,
   "metadata": {
    "colab": {
     "base_uri": "https://localhost:8080/",
     "height": 100
    },
    "colab_type": "code",
    "id": "8pBlKfc24AOZ",
    "outputId": "9c2539c1-c06a-4fd9-e9a3-aa10396ae13a"
   },
   "outputs": [
    {
     "data": {
      "text/html": [
       "<div>\n",
       "<style scoped>\n",
       "    .dataframe tbody tr th:only-of-type {\n",
       "        vertical-align: middle;\n",
       "    }\n",
       "\n",
       "    .dataframe tbody tr th {\n",
       "        vertical-align: top;\n",
       "    }\n",
       "\n",
       "    .dataframe thead th {\n",
       "        text-align: right;\n",
       "    }\n",
       "</style>\n",
       "<table border=\"1\" class=\"dataframe\">\n",
       "  <thead>\n",
       "    <tr style=\"text-align: right;\">\n",
       "      <th></th>\n",
       "      <th>var</th>\n",
       "      <th>proportion</th>\n",
       "      <th>dtype</th>\n",
       "    </tr>\n",
       "  </thead>\n",
       "  <tbody>\n",
       "    <tr>\n",
       "      <th>0</th>\n",
       "      <td>Champion</td>\n",
       "      <td>0.200000</td>\n",
       "      <td>float64</td>\n",
       "    </tr>\n",
       "    <tr>\n",
       "      <th>1</th>\n",
       "      <td>TPP</td>\n",
       "      <td>0.020455</td>\n",
       "      <td>float64</td>\n",
       "    </tr>\n",
       "  </tbody>\n",
       "</table>\n",
       "</div>"
      ],
      "text/plain": [
       "        var  proportion    dtype\n",
       "0  Champion    0.200000  float64\n",
       "1       TPP    0.020455  float64"
      ]
     },
     "execution_count": 70,
     "metadata": {},
     "output_type": "execute_result"
    }
   ],
   "source": [
    "# Call nan_checker on df\n",
    "df_nan = nan_checker(df)\n",
    "\n",
    "# Print df_nan\n",
    "df_nan"
   ]
  },
  {
   "cell_type": "code",
   "execution_count": 71,
   "metadata": {
    "colab": {
     "base_uri": "https://localhost:8080/",
     "height": 100
    },
    "colab_type": "code",
    "id": "YyJ_uai_4AOb",
    "outputId": "74825f37-3c3a-47a7-a4b9-8e076f0d15e7",
    "scrolled": true
   },
   "outputs": [
    {
     "data": {
      "text/html": [
       "<div>\n",
       "<style scoped>\n",
       "    .dataframe tbody tr th:only-of-type {\n",
       "        vertical-align: middle;\n",
       "    }\n",
       "\n",
       "    .dataframe tbody tr th {\n",
       "        vertical-align: top;\n",
       "    }\n",
       "\n",
       "    .dataframe thead th {\n",
       "        text-align: right;\n",
       "    }\n",
       "</style>\n",
       "<table border=\"1\" class=\"dataframe\">\n",
       "  <thead>\n",
       "    <tr style=\"text-align: right;\">\n",
       "      <th></th>\n",
       "      <th>dtype</th>\n",
       "    </tr>\n",
       "  </thead>\n",
       "  <tbody>\n",
       "    <tr>\n",
       "      <th>0</th>\n",
       "      <td>float64</td>\n",
       "    </tr>\n",
       "  </tbody>\n",
       "</table>\n",
       "</div>"
      ],
      "text/plain": [
       "     dtype\n",
       "0  float64"
      ]
     },
     "execution_count": 71,
     "metadata": {},
     "output_type": "execute_result"
    }
   ],
   "source": [
    "# Print the unique dtype of the variables with NaN\n",
    "pd.DataFrame(df_nan['dtype'].unique(), columns=['dtype'])"
   ]
  },
  {
   "cell_type": "markdown",
   "metadata": {
    "colab_type": "text",
    "id": "o-nVnokK4AOd"
   },
   "source": [
    "The code below shows how to use dtype to select variables with missing values in the combined training and testing data."
   ]
  },
  {
   "cell_type": "code",
   "execution_count": 72,
   "metadata": {
    "colab": {
     "base_uri": "https://localhost:8080/",
     "height": 100
    },
    "colab_type": "code",
    "id": "S7Ms9EVT4AOe",
    "outputId": "68463996-51ea-44cb-9850-98a6d9dbbe62",
    "scrolled": true
   },
   "outputs": [
    {
     "data": {
      "text/html": [
       "<div>\n",
       "<style scoped>\n",
       "    .dataframe tbody tr th:only-of-type {\n",
       "        vertical-align: middle;\n",
       "    }\n",
       "\n",
       "    .dataframe tbody tr th {\n",
       "        vertical-align: top;\n",
       "    }\n",
       "\n",
       "    .dataframe thead th {\n",
       "        text-align: right;\n",
       "    }\n",
       "</style>\n",
       "<table border=\"1\" class=\"dataframe\">\n",
       "  <thead>\n",
       "    <tr style=\"text-align: right;\">\n",
       "      <th></th>\n",
       "      <th>var</th>\n",
       "      <th>proportion</th>\n",
       "      <th>dtype</th>\n",
       "    </tr>\n",
       "  </thead>\n",
       "  <tbody>\n",
       "    <tr>\n",
       "      <th>0</th>\n",
       "      <td>Champion</td>\n",
       "      <td>0.200000</td>\n",
       "      <td>float64</td>\n",
       "    </tr>\n",
       "    <tr>\n",
       "      <th>1</th>\n",
       "      <td>TPP</td>\n",
       "      <td>0.020455</td>\n",
       "      <td>float64</td>\n",
       "    </tr>\n",
       "  </tbody>\n",
       "</table>\n",
       "</div>"
      ],
      "text/plain": [
       "        var  proportion    dtype\n",
       "0  Champion    0.200000  float64\n",
       "1       TPP    0.020455  float64"
      ]
     },
     "execution_count": 72,
     "metadata": {},
     "output_type": "execute_result"
    }
   ],
   "source": [
    "# Get the variables with missing values, their proportion of missing values and dtype\n",
    "df_miss = df_nan[df_nan['dtype'] == 'float64'].reset_index(drop=True)\n",
    "\n",
    "# Print df_miss\n",
    "df_miss"
   ]
  },
  {
   "cell_type": "markdown",
   "metadata": {},
   "source": [
    "### Removing missing data"
   ]
  },
  {
   "cell_type": "markdown",
   "metadata": {},
   "source": [
    "The code below shows how to remove rows with missing values (here we use numpy intersect1d to find the intersection of two series)."
   ]
  },
  {
   "cell_type": "code",
   "execution_count": 73,
   "metadata": {},
   "outputs": [],
   "source": [
    "import numpy as np \n",
    "\n",
    "# Remove rows with missing values from df_train\n",
    "df_train = df_train.dropna(subset=np.intersect1d(df_miss['var'], df_train.columns),\n",
    "                           inplace=False)\n",
    "\n",
    "# Remove rows with missing values from df_valid\n",
    "df_valid = df_valid.dropna(subset=np.intersect1d(df_miss['var'], df_valid.columns),\n",
    "                           inplace=False)\n",
    "\n",
    "# Remove rows with missing values from df_test\n",
    "df_test = df_test.dropna(subset=np.intersect1d(df_miss['var'], df_test.columns),\n",
    "                         inplace=False)"
   ]
  },
  {
   "cell_type": "code",
   "execution_count": 74,
   "metadata": {},
   "outputs": [
    {
     "data": {
      "text/html": [
       "<div>\n",
       "<style scoped>\n",
       "    .dataframe tbody tr th:only-of-type {\n",
       "        vertical-align: middle;\n",
       "    }\n",
       "\n",
       "    .dataframe tbody tr th {\n",
       "        vertical-align: top;\n",
       "    }\n",
       "\n",
       "    .dataframe thead th {\n",
       "        text-align: right;\n",
       "    }\n",
       "</style>\n",
       "<table border=\"1\" class=\"dataframe\">\n",
       "  <thead>\n",
       "    <tr style=\"text-align: right;\">\n",
       "      <th></th>\n",
       "      <th># rows</th>\n",
       "      <th># columns</th>\n",
       "    </tr>\n",
       "  </thead>\n",
       "  <tbody>\n",
       "    <tr>\n",
       "      <th>0</th>\n",
       "      <td>275</td>\n",
       "      <td>24</td>\n",
       "    </tr>\n",
       "  </tbody>\n",
       "</table>\n",
       "</div>"
      ],
      "text/plain": [
       "   # rows  # columns\n",
       "0     275         24"
      ]
     },
     "execution_count": 74,
     "metadata": {},
     "output_type": "execute_result"
    }
   ],
   "source": [
    "# Print the dimension of df_train\n",
    "pd.DataFrame([[df_train.shape[0], df_train.shape[1]]], columns=['# rows', '# columns'])"
   ]
  },
  {
   "cell_type": "code",
   "execution_count": 75,
   "metadata": {},
   "outputs": [
    {
     "data": {
      "text/html": [
       "<div>\n",
       "<style scoped>\n",
       "    .dataframe tbody tr th:only-of-type {\n",
       "        vertical-align: middle;\n",
       "    }\n",
       "\n",
       "    .dataframe tbody tr th {\n",
       "        vertical-align: top;\n",
       "    }\n",
       "\n",
       "    .dataframe thead th {\n",
       "        text-align: right;\n",
       "    }\n",
       "</style>\n",
       "<table border=\"1\" class=\"dataframe\">\n",
       "  <thead>\n",
       "    <tr style=\"text-align: right;\">\n",
       "      <th></th>\n",
       "      <th># rows</th>\n",
       "      <th># columns</th>\n",
       "    </tr>\n",
       "  </thead>\n",
       "  <tbody>\n",
       "    <tr>\n",
       "      <th>0</th>\n",
       "      <td>69</td>\n",
       "      <td>24</td>\n",
       "    </tr>\n",
       "  </tbody>\n",
       "</table>\n",
       "</div>"
      ],
      "text/plain": [
       "   # rows  # columns\n",
       "0      69         24"
      ]
     },
     "execution_count": 75,
     "metadata": {},
     "output_type": "execute_result"
    }
   ],
   "source": [
    "# Print the dimension of df_valid\n",
    "pd.DataFrame([[df_valid.shape[0], df_valid.shape[1]]], columns=['# rows', '# columns'])"
   ]
  },
  {
   "cell_type": "code",
   "execution_count": 76,
   "metadata": {},
   "outputs": [
    {
     "data": {
      "text/html": [
       "<div>\n",
       "<style scoped>\n",
       "    .dataframe tbody tr th:only-of-type {\n",
       "        vertical-align: middle;\n",
       "    }\n",
       "\n",
       "    .dataframe tbody tr th {\n",
       "        vertical-align: top;\n",
       "    }\n",
       "\n",
       "    .dataframe thead th {\n",
       "        text-align: right;\n",
       "    }\n",
       "</style>\n",
       "<table border=\"1\" class=\"dataframe\">\n",
       "  <thead>\n",
       "    <tr style=\"text-align: right;\">\n",
       "      <th></th>\n",
       "      <th># rows</th>\n",
       "      <th># columns</th>\n",
       "    </tr>\n",
       "  </thead>\n",
       "  <tbody>\n",
       "    <tr>\n",
       "      <th>0</th>\n",
       "      <td>87</td>\n",
       "      <td>23</td>\n",
       "    </tr>\n",
       "  </tbody>\n",
       "</table>\n",
       "</div>"
      ],
      "text/plain": [
       "   # rows  # columns\n",
       "0      87         23"
      ]
     },
     "execution_count": 76,
     "metadata": {},
     "output_type": "execute_result"
    }
   ],
   "source": [
    "# Print the dimension of df_test\n",
    "pd.DataFrame([[df_test.shape[0], df_test.shape[1]]], columns=['# rows', '# columns'])"
   ]
  },
  {
   "cell_type": "markdown",
   "metadata": {
    "colab_type": "text",
    "id": "o7dxOrdj4AOm"
   },
   "source": [
    "## Encoding the data"
   ]
  },
  {
   "cell_type": "markdown",
   "metadata": {
    "colab_type": "text",
    "id": "aFZrDH4G4AOn"
   },
   "source": [
    "### Combining the training, validation and testing data\n",
    "The code below shows how to combine the training, validation and testing data (using pandas concat)."
   ]
  },
  {
   "cell_type": "code",
   "execution_count": 77,
   "metadata": {
    "colab": {
     "base_uri": "https://localhost:8080/",
     "height": 131
    },
    "colab_type": "code",
    "id": "_-iTUGvJ4AOn",
    "outputId": "12dd3838-5fbb-4619-b655-c7334a63ea47",
    "scrolled": true
   },
   "outputs": [
    {
     "data": {
      "text/html": [
       "<div>\n",
       "<style scoped>\n",
       "    .dataframe tbody tr th:only-of-type {\n",
       "        vertical-align: middle;\n",
       "    }\n",
       "\n",
       "    .dataframe tbody tr th {\n",
       "        vertical-align: top;\n",
       "    }\n",
       "\n",
       "    .dataframe thead th {\n",
       "        text-align: right;\n",
       "    }\n",
       "</style>\n",
       "<table border=\"1\" class=\"dataframe\">\n",
       "  <thead>\n",
       "    <tr style=\"text-align: right;\">\n",
       "      <th></th>\n",
       "      <th>dtype</th>\n",
       "    </tr>\n",
       "  </thead>\n",
       "  <tbody>\n",
       "    <tr>\n",
       "      <th>0</th>\n",
       "      <td>int64</td>\n",
       "    </tr>\n",
       "    <tr>\n",
       "      <th>1</th>\n",
       "      <td>object</td>\n",
       "    </tr>\n",
       "    <tr>\n",
       "      <th>2</th>\n",
       "      <td>float64</td>\n",
       "    </tr>\n",
       "  </tbody>\n",
       "</table>\n",
       "</div>"
      ],
      "text/plain": [
       "     dtype\n",
       "0    int64\n",
       "1   object\n",
       "2  float64"
      ]
     },
     "execution_count": 77,
     "metadata": {},
     "output_type": "execute_result"
    }
   ],
   "source": [
    "# Combine df_train, df_valid and df_test\n",
    "df = pd.concat([df_train, df_valid, df_test], sort=False)\n",
    "\n",
    "# Print the unique dtype of variables in df\n",
    "pd.DataFrame(df.dtypes.unique(), columns=['dtype'])"
   ]
  },
  {
   "cell_type": "markdown",
   "metadata": {
    "colab_type": "text",
    "id": "n1wNsrxv4AOr"
   },
   "source": [
    "### Identifying the Categorical Variables"
   ]
  },
  {
   "cell_type": "markdown",
   "metadata": {
    "colab_type": "text",
    "id": "z5G2umhG4AOs"
   },
   "source": [
    "The code below shows how to find the categorical variables that have object as dtype (using pandas.Series.dtype)."
   ]
  },
  {
   "cell_type": "code",
   "execution_count": 78,
   "metadata": {
    "colab": {},
    "colab_type": "code",
    "id": "dH7Ostpn4AOs"
   },
   "outputs": [],
   "source": [
    "def cat_var_checker(df):\n",
    "    \"\"\"\n",
    "    The categorical variable checker\n",
    "\n",
    "    Parameters\n",
    "    ----------\n",
    "    df: the dataframe\n",
    "    \n",
    "    Returns\n",
    "    ----------\n",
    "    The dataframe of categorical variables and their number of unique value\n",
    "    \"\"\"\n",
    "    \n",
    "    # Get the dataframe of categorical variables and their number of unique value\n",
    "    df_cat = pd.DataFrame([[var, df[var].nunique(dropna=False)]\n",
    "                           for var in df.columns if df[var].dtype == 'object'],\n",
    "                          columns=['var', 'nunique'])\n",
    "    \n",
    "    # Sort df_cat in accending order of the number of unique value\n",
    "    df_cat = df_cat.sort_values(by='nunique', ascending=False).reset_index(drop=True)\n",
    "    \n",
    "    return df_cat"
   ]
  },
  {
   "cell_type": "code",
   "execution_count": 79,
   "metadata": {
    "colab": {
     "base_uri": "https://localhost:8080/",
     "height": 69
    },
    "colab_type": "code",
    "id": "WhK2-uyt4AOu",
    "outputId": "881530da-b233-4008-ecee-5ae76dcd4b81",
    "scrolled": true
   },
   "outputs": [
    {
     "data": {
      "text/html": [
       "<div>\n",
       "<style scoped>\n",
       "    .dataframe tbody tr th:only-of-type {\n",
       "        vertical-align: middle;\n",
       "    }\n",
       "\n",
       "    .dataframe tbody tr th {\n",
       "        vertical-align: top;\n",
       "    }\n",
       "\n",
       "    .dataframe thead th {\n",
       "        text-align: right;\n",
       "    }\n",
       "</style>\n",
       "<table border=\"1\" class=\"dataframe\">\n",
       "  <thead>\n",
       "    <tr style=\"text-align: right;\">\n",
       "      <th></th>\n",
       "      <th>var</th>\n",
       "      <th>nunique</th>\n",
       "    </tr>\n",
       "  </thead>\n",
       "  <tbody>\n",
       "    <tr>\n",
       "      <th>0</th>\n",
       "      <td>Team</td>\n",
       "      <td>22</td>\n",
       "    </tr>\n",
       "  </tbody>\n",
       "</table>\n",
       "</div>"
      ],
      "text/plain": [
       "    var  nunique\n",
       "0  Team       22"
      ]
     },
     "execution_count": 79,
     "metadata": {},
     "output_type": "execute_result"
    }
   ],
   "source": [
    "# Call cat_var_checker on df\n",
    "df_cat = cat_var_checker(df)\n",
    "\n",
    "# Print the dataframe\n",
    "df_cat"
   ]
  },
  {
   "cell_type": "markdown",
   "metadata": {
    "colab_type": "text",
    "id": "FAnUmBDm4AOv"
   },
   "source": [
    "### Encoding the categorical features\n",
    "The code below shows how to encode the categorical features in the combined data (using pandas.get\\_dummies)."
   ]
  },
  {
   "cell_type": "code",
   "execution_count": 80,
   "metadata": {
    "colab": {
     "base_uri": "https://localhost:8080/",
     "height": 321
    },
    "colab_type": "code",
    "id": "ff2r2dma4AOv",
    "outputId": "dea7897f-51f7-4e72-bab6-6fb24aaff9c2",
    "scrolled": true
   },
   "outputs": [
    {
     "data": {
      "text/html": [
       "<div>\n",
       "<style scoped>\n",
       "    .dataframe tbody tr th:only-of-type {\n",
       "        vertical-align: middle;\n",
       "    }\n",
       "\n",
       "    .dataframe tbody tr th {\n",
       "        vertical-align: top;\n",
       "    }\n",
       "\n",
       "    .dataframe thead th {\n",
       "        text-align: right;\n",
       "    }\n",
       "</style>\n",
       "<table border=\"1\" class=\"dataframe\">\n",
       "  <thead>\n",
       "    <tr style=\"text-align: right;\">\n",
       "      <th></th>\n",
       "      <th>Year</th>\n",
       "      <th>Game</th>\n",
       "      <th>Home</th>\n",
       "      <th>MP</th>\n",
       "      <th>FG</th>\n",
       "      <th>FGA</th>\n",
       "      <th>FGP</th>\n",
       "      <th>TP</th>\n",
       "      <th>TPA</th>\n",
       "      <th>TPP</th>\n",
       "      <th>...</th>\n",
       "      <th>Team_Pacers</th>\n",
       "      <th>Team_Pistons</th>\n",
       "      <th>Team_Rockets</th>\n",
       "      <th>Team_Sixers</th>\n",
       "      <th>Team_Sonics</th>\n",
       "      <th>Team_Spurs</th>\n",
       "      <th>Team_Suns</th>\n",
       "      <th>Team_Thunder</th>\n",
       "      <th>Team_Warriorrs</th>\n",
       "      <th>Team_Warriors</th>\n",
       "    </tr>\n",
       "  </thead>\n",
       "  <tbody>\n",
       "    <tr>\n",
       "      <th>0</th>\n",
       "      <td>2009</td>\n",
       "      <td>1</td>\n",
       "      <td>0</td>\n",
       "      <td>0</td>\n",
       "      <td>23</td>\n",
       "      <td>77</td>\n",
       "      <td>0.299</td>\n",
       "      <td>8</td>\n",
       "      <td>23</td>\n",
       "      <td>0.348</td>\n",
       "      <td>...</td>\n",
       "      <td>0</td>\n",
       "      <td>0</td>\n",
       "      <td>0</td>\n",
       "      <td>0</td>\n",
       "      <td>0</td>\n",
       "      <td>0</td>\n",
       "      <td>0</td>\n",
       "      <td>0</td>\n",
       "      <td>0</td>\n",
       "      <td>0</td>\n",
       "    </tr>\n",
       "    <tr>\n",
       "      <th>1</th>\n",
       "      <td>2014</td>\n",
       "      <td>2</td>\n",
       "      <td>1</td>\n",
       "      <td>0</td>\n",
       "      <td>36</td>\n",
       "      <td>82</td>\n",
       "      <td>0.439</td>\n",
       "      <td>12</td>\n",
       "      <td>26</td>\n",
       "      <td>0.462</td>\n",
       "      <td>...</td>\n",
       "      <td>0</td>\n",
       "      <td>0</td>\n",
       "      <td>0</td>\n",
       "      <td>0</td>\n",
       "      <td>0</td>\n",
       "      <td>1</td>\n",
       "      <td>0</td>\n",
       "      <td>0</td>\n",
       "      <td>0</td>\n",
       "      <td>0</td>\n",
       "    </tr>\n",
       "    <tr>\n",
       "      <th>2</th>\n",
       "      <td>1993</td>\n",
       "      <td>3</td>\n",
       "      <td>1</td>\n",
       "      <td>0</td>\n",
       "      <td>55</td>\n",
       "      <td>130</td>\n",
       "      <td>0.423</td>\n",
       "      <td>5</td>\n",
       "      <td>13</td>\n",
       "      <td>0.385</td>\n",
       "      <td>...</td>\n",
       "      <td>0</td>\n",
       "      <td>0</td>\n",
       "      <td>0</td>\n",
       "      <td>0</td>\n",
       "      <td>0</td>\n",
       "      <td>0</td>\n",
       "      <td>0</td>\n",
       "      <td>0</td>\n",
       "      <td>0</td>\n",
       "      <td>0</td>\n",
       "    </tr>\n",
       "    <tr>\n",
       "      <th>3</th>\n",
       "      <td>2011</td>\n",
       "      <td>1</td>\n",
       "      <td>0</td>\n",
       "      <td>0</td>\n",
       "      <td>25</td>\n",
       "      <td>67</td>\n",
       "      <td>0.373</td>\n",
       "      <td>9</td>\n",
       "      <td>22</td>\n",
       "      <td>0.409</td>\n",
       "      <td>...</td>\n",
       "      <td>0</td>\n",
       "      <td>0</td>\n",
       "      <td>0</td>\n",
       "      <td>0</td>\n",
       "      <td>0</td>\n",
       "      <td>0</td>\n",
       "      <td>0</td>\n",
       "      <td>0</td>\n",
       "      <td>0</td>\n",
       "      <td>0</td>\n",
       "    </tr>\n",
       "    <tr>\n",
       "      <th>4</th>\n",
       "      <td>2006</td>\n",
       "      <td>6</td>\n",
       "      <td>0</td>\n",
       "      <td>0</td>\n",
       "      <td>35</td>\n",
       "      <td>78</td>\n",
       "      <td>0.449</td>\n",
       "      <td>2</td>\n",
       "      <td>18</td>\n",
       "      <td>0.111</td>\n",
       "      <td>...</td>\n",
       "      <td>0</td>\n",
       "      <td>0</td>\n",
       "      <td>0</td>\n",
       "      <td>0</td>\n",
       "      <td>0</td>\n",
       "      <td>0</td>\n",
       "      <td>0</td>\n",
       "      <td>0</td>\n",
       "      <td>0</td>\n",
       "      <td>0</td>\n",
       "    </tr>\n",
       "  </tbody>\n",
       "</table>\n",
       "<p>5 rows × 45 columns</p>\n",
       "</div>"
      ],
      "text/plain": [
       "   Year  Game  Home  MP  FG  FGA    FGP  TP  TPA    TPP  ...  Team_Pacers  \\\n",
       "0  2009     1     0   0  23   77  0.299   8   23  0.348  ...            0   \n",
       "1  2014     2     1   0  36   82  0.439  12   26  0.462  ...            0   \n",
       "2  1993     3     1   0  55  130  0.423   5   13  0.385  ...            0   \n",
       "3  2011     1     0   0  25   67  0.373   9   22  0.409  ...            0   \n",
       "4  2006     6     0   0  35   78  0.449   2   18  0.111  ...            0   \n",
       "\n",
       "   Team_Pistons  Team_Rockets  Team_Sixers  Team_Sonics  Team_Spurs  \\\n",
       "0             0             0            0            0           0   \n",
       "1             0             0            0            0           1   \n",
       "2             0             0            0            0           0   \n",
       "3             0             0            0            0           0   \n",
       "4             0             0            0            0           0   \n",
       "\n",
       "   Team_Suns  Team_Thunder  Team_Warriorrs  Team_Warriors  \n",
       "0          0             0               0              0  \n",
       "1          0             0               0              0  \n",
       "2          0             0               0              0  \n",
       "3          0             0               0              0  \n",
       "4          0             0               0              0  \n",
       "\n",
       "[5 rows x 45 columns]"
      ]
     },
     "execution_count": 80,
     "metadata": {},
     "output_type": "execute_result"
    }
   ],
   "source": [
    "import numpy as np\n",
    "\n",
    "# One-hot-encode the categorical features in the combined data\n",
    "df = pd.get_dummies(df, columns=np.setdiff1d(df_cat['var'], [target]))\n",
    "\n",
    "# Print the first 5 rows of df\n",
    "df.head()"
   ]
  },
  {
   "cell_type": "markdown",
   "metadata": {
    "colab_type": "text",
    "id": "J0OW9egQ4AOy"
   },
   "source": [
    "### Separating the training, validation and testing data\n",
    "The code below shows how to separate the training, validation and testing data."
   ]
  },
  {
   "cell_type": "code",
   "execution_count": 81,
   "metadata": {
    "colab": {},
    "colab_type": "code",
    "id": "xj2ygps_4AOz"
   },
   "outputs": [],
   "source": [
    "# Separating the training data\n",
    "df_train = df.iloc[:df_train.shape[0], :].copy(deep=True)\n",
    "\n",
    "# Separating the validation data\n",
    "df_valid = df.iloc[df_train.shape[0]:df_train.shape[0] + df_valid.shape[0], :].copy(deep=True)\n",
    "\n",
    "# Separating the testing data\n",
    "df_test = df.iloc[df_train.shape[0] + df_valid.shape[0]:, :].copy(deep=True)"
   ]
  },
  {
   "cell_type": "code",
   "execution_count": 82,
   "metadata": {
    "colab": {
     "base_uri": "https://localhost:8080/",
     "height": 80
    },
    "colab_type": "code",
    "id": "WlQzE2Yt4AO0",
    "outputId": "760bd041-aa66-4565-e55f-75630464f80f",
    "scrolled": true
   },
   "outputs": [
    {
     "data": {
      "text/html": [
       "<div>\n",
       "<style scoped>\n",
       "    .dataframe tbody tr th:only-of-type {\n",
       "        vertical-align: middle;\n",
       "    }\n",
       "\n",
       "    .dataframe tbody tr th {\n",
       "        vertical-align: top;\n",
       "    }\n",
       "\n",
       "    .dataframe thead th {\n",
       "        text-align: right;\n",
       "    }\n",
       "</style>\n",
       "<table border=\"1\" class=\"dataframe\">\n",
       "  <thead>\n",
       "    <tr style=\"text-align: right;\">\n",
       "      <th></th>\n",
       "      <th># rows</th>\n",
       "      <th># columns</th>\n",
       "    </tr>\n",
       "  </thead>\n",
       "  <tbody>\n",
       "    <tr>\n",
       "      <th>0</th>\n",
       "      <td>275</td>\n",
       "      <td>45</td>\n",
       "    </tr>\n",
       "  </tbody>\n",
       "</table>\n",
       "</div>"
      ],
      "text/plain": [
       "   # rows  # columns\n",
       "0     275         45"
      ]
     },
     "execution_count": 82,
     "metadata": {},
     "output_type": "execute_result"
    }
   ],
   "source": [
    "# Print the dimension of df_train\n",
    "pd.DataFrame([[df_train.shape[0], df_train.shape[1]]], columns=['# rows', '# columns'])"
   ]
  },
  {
   "cell_type": "code",
   "execution_count": 83,
   "metadata": {
    "colab": {
     "base_uri": "https://localhost:8080/",
     "height": 80
    },
    "colab_type": "code",
    "id": "KdNjOqRw4AO2",
    "outputId": "66c67d26-82c9-4ba9-987f-85993609818e",
    "scrolled": true
   },
   "outputs": [
    {
     "data": {
      "text/html": [
       "<div>\n",
       "<style scoped>\n",
       "    .dataframe tbody tr th:only-of-type {\n",
       "        vertical-align: middle;\n",
       "    }\n",
       "\n",
       "    .dataframe tbody tr th {\n",
       "        vertical-align: top;\n",
       "    }\n",
       "\n",
       "    .dataframe thead th {\n",
       "        text-align: right;\n",
       "    }\n",
       "</style>\n",
       "<table border=\"1\" class=\"dataframe\">\n",
       "  <thead>\n",
       "    <tr style=\"text-align: right;\">\n",
       "      <th></th>\n",
       "      <th># rows</th>\n",
       "      <th># columns</th>\n",
       "    </tr>\n",
       "  </thead>\n",
       "  <tbody>\n",
       "    <tr>\n",
       "      <th>0</th>\n",
       "      <td>69</td>\n",
       "      <td>45</td>\n",
       "    </tr>\n",
       "  </tbody>\n",
       "</table>\n",
       "</div>"
      ],
      "text/plain": [
       "   # rows  # columns\n",
       "0      69         45"
      ]
     },
     "execution_count": 83,
     "metadata": {},
     "output_type": "execute_result"
    }
   ],
   "source": [
    "# Print the dimension of df_valid\n",
    "pd.DataFrame([[df_valid.shape[0], df_valid.shape[1]]], columns=['# rows', '# columns'])"
   ]
  },
  {
   "cell_type": "code",
   "execution_count": 84,
   "metadata": {
    "colab": {
     "base_uri": "https://localhost:8080/",
     "height": 80
    },
    "colab_type": "code",
    "id": "1JKo7F_F4AO3",
    "outputId": "073e6629-98d6-442b-fc9e-95624f6f0cec",
    "scrolled": true
   },
   "outputs": [
    {
     "data": {
      "text/html": [
       "<div>\n",
       "<style scoped>\n",
       "    .dataframe tbody tr th:only-of-type {\n",
       "        vertical-align: middle;\n",
       "    }\n",
       "\n",
       "    .dataframe tbody tr th {\n",
       "        vertical-align: top;\n",
       "    }\n",
       "\n",
       "    .dataframe thead th {\n",
       "        text-align: right;\n",
       "    }\n",
       "</style>\n",
       "<table border=\"1\" class=\"dataframe\">\n",
       "  <thead>\n",
       "    <tr style=\"text-align: right;\">\n",
       "      <th></th>\n",
       "      <th># rows</th>\n",
       "      <th># columns</th>\n",
       "    </tr>\n",
       "  </thead>\n",
       "  <tbody>\n",
       "    <tr>\n",
       "      <th>0</th>\n",
       "      <td>87</td>\n",
       "      <td>45</td>\n",
       "    </tr>\n",
       "  </tbody>\n",
       "</table>\n",
       "</div>"
      ],
      "text/plain": [
       "   # rows  # columns\n",
       "0      87         45"
      ]
     },
     "execution_count": 84,
     "metadata": {},
     "output_type": "execute_result"
    }
   ],
   "source": [
    "# Print the dimension of df_test\n",
    "pd.DataFrame([[df_test.shape[0], df_test.shape[1]]], columns=['# rows', '# columns'])"
   ]
  },
  {
   "cell_type": "code",
   "execution_count": 85,
   "metadata": {},
   "outputs": [
    {
     "data": {
      "text/html": [
       "<div>\n",
       "<style scoped>\n",
       "    .dataframe tbody tr th:only-of-type {\n",
       "        vertical-align: middle;\n",
       "    }\n",
       "\n",
       "    .dataframe tbody tr th {\n",
       "        vertical-align: top;\n",
       "    }\n",
       "\n",
       "    .dataframe thead th {\n",
       "        text-align: right;\n",
       "    }\n",
       "</style>\n",
       "<table border=\"1\" class=\"dataframe\">\n",
       "  <thead>\n",
       "    <tr style=\"text-align: right;\">\n",
       "      <th></th>\n",
       "      <th>Year</th>\n",
       "      <th>Game</th>\n",
       "      <th>Home</th>\n",
       "      <th>MP</th>\n",
       "      <th>FG</th>\n",
       "      <th>FGA</th>\n",
       "      <th>FGP</th>\n",
       "      <th>TP</th>\n",
       "      <th>TPA</th>\n",
       "      <th>TPP</th>\n",
       "      <th>...</th>\n",
       "      <th>Team_Pacers</th>\n",
       "      <th>Team_Pistons</th>\n",
       "      <th>Team_Rockets</th>\n",
       "      <th>Team_Sixers</th>\n",
       "      <th>Team_Sonics</th>\n",
       "      <th>Team_Spurs</th>\n",
       "      <th>Team_Suns</th>\n",
       "      <th>Team_Thunder</th>\n",
       "      <th>Team_Warriorrs</th>\n",
       "      <th>Team_Warriors</th>\n",
       "    </tr>\n",
       "  </thead>\n",
       "  <tbody>\n",
       "    <tr>\n",
       "      <th>0</th>\n",
       "      <td>2009</td>\n",
       "      <td>1</td>\n",
       "      <td>0</td>\n",
       "      <td>0</td>\n",
       "      <td>23</td>\n",
       "      <td>77</td>\n",
       "      <td>0.299</td>\n",
       "      <td>8</td>\n",
       "      <td>23</td>\n",
       "      <td>0.348</td>\n",
       "      <td>...</td>\n",
       "      <td>0</td>\n",
       "      <td>0</td>\n",
       "      <td>0</td>\n",
       "      <td>0</td>\n",
       "      <td>0</td>\n",
       "      <td>0</td>\n",
       "      <td>0</td>\n",
       "      <td>0</td>\n",
       "      <td>0</td>\n",
       "      <td>0</td>\n",
       "    </tr>\n",
       "    <tr>\n",
       "      <th>1</th>\n",
       "      <td>2014</td>\n",
       "      <td>2</td>\n",
       "      <td>1</td>\n",
       "      <td>0</td>\n",
       "      <td>36</td>\n",
       "      <td>82</td>\n",
       "      <td>0.439</td>\n",
       "      <td>12</td>\n",
       "      <td>26</td>\n",
       "      <td>0.462</td>\n",
       "      <td>...</td>\n",
       "      <td>0</td>\n",
       "      <td>0</td>\n",
       "      <td>0</td>\n",
       "      <td>0</td>\n",
       "      <td>0</td>\n",
       "      <td>1</td>\n",
       "      <td>0</td>\n",
       "      <td>0</td>\n",
       "      <td>0</td>\n",
       "      <td>0</td>\n",
       "    </tr>\n",
       "    <tr>\n",
       "      <th>2</th>\n",
       "      <td>1993</td>\n",
       "      <td>3</td>\n",
       "      <td>1</td>\n",
       "      <td>0</td>\n",
       "      <td>55</td>\n",
       "      <td>130</td>\n",
       "      <td>0.423</td>\n",
       "      <td>5</td>\n",
       "      <td>13</td>\n",
       "      <td>0.385</td>\n",
       "      <td>...</td>\n",
       "      <td>0</td>\n",
       "      <td>0</td>\n",
       "      <td>0</td>\n",
       "      <td>0</td>\n",
       "      <td>0</td>\n",
       "      <td>0</td>\n",
       "      <td>0</td>\n",
       "      <td>0</td>\n",
       "      <td>0</td>\n",
       "      <td>0</td>\n",
       "    </tr>\n",
       "    <tr>\n",
       "      <th>3</th>\n",
       "      <td>2011</td>\n",
       "      <td>1</td>\n",
       "      <td>0</td>\n",
       "      <td>0</td>\n",
       "      <td>25</td>\n",
       "      <td>67</td>\n",
       "      <td>0.373</td>\n",
       "      <td>9</td>\n",
       "      <td>22</td>\n",
       "      <td>0.409</td>\n",
       "      <td>...</td>\n",
       "      <td>0</td>\n",
       "      <td>0</td>\n",
       "      <td>0</td>\n",
       "      <td>0</td>\n",
       "      <td>0</td>\n",
       "      <td>0</td>\n",
       "      <td>0</td>\n",
       "      <td>0</td>\n",
       "      <td>0</td>\n",
       "      <td>0</td>\n",
       "    </tr>\n",
       "    <tr>\n",
       "      <th>4</th>\n",
       "      <td>2006</td>\n",
       "      <td>6</td>\n",
       "      <td>0</td>\n",
       "      <td>0</td>\n",
       "      <td>35</td>\n",
       "      <td>78</td>\n",
       "      <td>0.449</td>\n",
       "      <td>2</td>\n",
       "      <td>18</td>\n",
       "      <td>0.111</td>\n",
       "      <td>...</td>\n",
       "      <td>0</td>\n",
       "      <td>0</td>\n",
       "      <td>0</td>\n",
       "      <td>0</td>\n",
       "      <td>0</td>\n",
       "      <td>0</td>\n",
       "      <td>0</td>\n",
       "      <td>0</td>\n",
       "      <td>0</td>\n",
       "      <td>0</td>\n",
       "    </tr>\n",
       "  </tbody>\n",
       "</table>\n",
       "<p>5 rows × 45 columns</p>\n",
       "</div>"
      ],
      "text/plain": [
       "   Year  Game  Home  MP  FG  FGA    FGP  TP  TPA    TPP  ...  Team_Pacers  \\\n",
       "0  2009     1     0   0  23   77  0.299   8   23  0.348  ...            0   \n",
       "1  2014     2     1   0  36   82  0.439  12   26  0.462  ...            0   \n",
       "2  1993     3     1   0  55  130  0.423   5   13  0.385  ...            0   \n",
       "3  2011     1     0   0  25   67  0.373   9   22  0.409  ...            0   \n",
       "4  2006     6     0   0  35   78  0.449   2   18  0.111  ...            0   \n",
       "\n",
       "   Team_Pistons  Team_Rockets  Team_Sixers  Team_Sonics  Team_Spurs  \\\n",
       "0             0             0            0            0           0   \n",
       "1             0             0            0            0           1   \n",
       "2             0             0            0            0           0   \n",
       "3             0             0            0            0           0   \n",
       "4             0             0            0            0           0   \n",
       "\n",
       "   Team_Suns  Team_Thunder  Team_Warriorrs  Team_Warriors  \n",
       "0          0             0               0              0  \n",
       "1          0             0               0              0  \n",
       "2          0             0               0              0  \n",
       "3          0             0               0              0  \n",
       "4          0             0               0              0  \n",
       "\n",
       "[5 rows x 45 columns]"
      ]
     },
     "execution_count": 85,
     "metadata": {},
     "output_type": "execute_result"
    }
   ],
   "source": [
    "df_train.head()"
   ]
  },
  {
   "cell_type": "markdown",
   "metadata": {
    "colab_type": "text",
    "id": "kem7Nu444AO5"
   },
   "source": [
    "## Getting the name of the features"
   ]
  },
  {
   "cell_type": "code",
   "execution_count": 86,
   "metadata": {
    "colab": {},
    "colab_type": "code",
    "id": "6_1kPgRe4AO5"
   },
   "outputs": [],
   "source": [
    "features = np.setdiff1d(df.columns, [target])"
   ]
  },
  {
   "cell_type": "markdown",
   "metadata": {
    "colab_type": "text",
    "id": "uSDfmcAK4AO6"
   },
   "source": [
    "## Getting the feature matrix and target vector"
   ]
  },
  {
   "cell_type": "code",
   "execution_count": 87,
   "metadata": {
    "colab": {},
    "colab_type": "code",
    "id": "QUbZS4gz4AO7"
   },
   "outputs": [],
   "source": [
    "# Reset the index\n",
    "df_train, df_valid, df_test = df_train.reset_index(drop=True), df_valid.reset_index(drop=True), df_test.reset_index(drop=True)\n",
    "\n",
    "# Get the feature matrix\n",
    "X_train = df_train[features].to_numpy()\n",
    "X_valid = df_valid[features].to_numpy()\n",
    "X_test = df_test[features].to_numpy()\n",
    "\n",
    "# Get the target vector\n",
    "y_train = df_train[target].astype(int).to_numpy()\n",
    "y_valid = df_valid[target].astype(int).to_numpy()"
   ]
  },
  {
   "cell_type": "markdown",
   "metadata": {
    "colab_type": "text",
    "id": "sZuMdgk54AO8"
   },
   "source": [
    "## Scaling the data\n",
    "The code below shows how to normalize the data (using sklearn MinMaxScaler). "
   ]
  },
  {
   "cell_type": "code",
   "execution_count": 88,
   "metadata": {
    "colab": {},
    "colab_type": "code",
    "id": "7aKuH8ZY4AO9"
   },
   "outputs": [],
   "source": [
    "from sklearn.preprocessing import MinMaxScaler\n",
    "\n",
    "# The MinMaxScaler\n",
    "mms = MinMaxScaler()\n",
    "\n",
    "# Normalize the training data\n",
    "X_train = mms.fit_transform(X_train)\n",
    "\n",
    "# Normalize the validation data\n",
    "X_valid = mms.transform(X_valid)\n",
    "\n",
    "# Normalize the testing data\n",
    "X_test = mms.transform(X_test)"
   ]
  },
  {
   "cell_type": "markdown",
   "metadata": {},
   "source": [
    "## Correlation Plot"
   ]
  },
  {
   "cell_type": "code",
   "execution_count": 89,
   "metadata": {},
   "outputs": [
    {
     "data": {
      "image/png": "[encoded data removed]",
      "text/plain": [
       "<Figure size 1440x1440 with 2 Axes>"
      ]
     },
     "metadata": {
      "needs_background": "light"
     },
     "output_type": "display_data"
    }
   ],
   "source": [
    "#creating a correlation plot to see what are the most relevant features\n",
    "import seaborn as sns\n",
    "import matplotlib.pyplot as plt\n",
    "\n",
    "fig, ax = plt.subplots(figsize=(20,20))\n",
    "sns.heatmap(df.corr()[[target]].sort_values(target),\n",
    "vmax=1, vmin=-1, cmap='YlGnBu', annot=True, ax=ax);\n",
    "ax.invert_yaxis()\n",
    "plt.show()"
   ]
  },
  {
   "cell_type": "markdown",
   "metadata": {
    "colab_type": "text",
    "id": "rMLlv9xK4AO9"
   },
   "source": [
    "# Hyperparameter Tuning and Model Selection"
   ]
  },
  {
   "cell_type": "markdown",
   "metadata": {
    "colab_type": "text",
    "id": "v_Ogtvyj4AO-"
   },
   "source": [
    "## Creating the dictionary of the models\n",
    "- In the dictionary:\n",
    "    - the key is the acronym of the model\n",
    "    - the value is the model"
   ]
  },
  {
   "cell_type": "code",
   "execution_count": 93,
   "metadata": {
    "colab": {},
    "colab_type": "code",
    "id": "dcsLaPVv4AO-"
   },
   "outputs": [],
   "source": [
    "from sklearn.linear_model import LogisticRegression\n",
    "from sklearn.tree import DecisionTreeClassifier\n",
    "from sklearn.ensemble import RandomForestClassifier\n",
    "#from sklearn.ensemble import HistGradientBoostingClassifier\n",
    "from xgboost.sklearn import XGBClassifier\n",
    "from sklearn.neural_network import MLPClassifier\n",
    "from sklearn.experimental import enable_hist_gradient_boosting  # noqa\n",
    "# now you can import normally from ensemble\n",
    "from sklearn.ensemble import HistGradientBoostingClassifier\n",
    "from sklearn.svm import SVC\n",
    "\n",
    "\n",
    "models = {'lr': LogisticRegression(class_weight='balanced', random_state=42),\n",
    "          'dtc': DecisionTreeClassifier(class_weight='balanced', random_state=42),\n",
    "          'rfc': RandomForestClassifier(class_weight='balanced', random_state=42),\n",
    "          'hgbc': HistGradientBoostingClassifier(random_state=42),\n",
    "          'xgbc': XGBClassifier(seed=42), \n",
    "          'mlpc': MLPClassifier(early_stopping=True, random_state=42),'svm': SVC(random_state=42)}"
   ]
  },
  {
   "cell_type": "markdown",
   "metadata": {
    "colab_type": "text",
    "id": "3nYZcI0a4APA"
   },
   "source": [
    "## Creating the dictionary of the pipelines\n",
    "In the dictionary:\n",
    "- the key is the acronym of the model\n",
    "- the value is the pipeline, which, for now, only includes the model"
   ]
  },
  {
   "cell_type": "code",
   "execution_count": 94,
   "metadata": {
    "colab": {},
    "colab_type": "code",
    "id": "t_dn8Jj04APA"
   },
   "outputs": [],
   "source": [
    "from sklearn.pipeline import Pipeline\n",
    "\n",
    "pipes = {}\n",
    "\n",
    "for acronym, model in models.items():\n",
    "    pipes[acronym] = Pipeline([('model', model)])"
   ]
  },
  {
   "cell_type": "markdown",
   "metadata": {
    "colab_type": "text",
    "id": "6SMLSEH14APB"
   },
   "source": [
    "## Hyperparameter tuning and model selection using Sklearn (0.22 or above)"
   ]
  },
  {
   "cell_type": "markdown",
   "metadata": {
    "colab_type": "text",
    "id": "tWBytp4H4APB"
   },
   "source": [
    "### Getting the predefined split cross-validator"
   ]
  },
  {
   "cell_type": "code",
   "execution_count": 95,
   "metadata": {
    "colab": {},
    "colab_type": "code",
    "id": "DJU8oZxn4APC",
    "scrolled": true
   },
   "outputs": [],
   "source": [
    "from sklearn.model_selection import PredefinedSplit\n",
    "\n",
    "# Combine the feature matrix in the training and validation data\n",
    "X_train_valid = np.vstack((X_train, X_valid))\n",
    "\n",
    "# Combine the target vector in the training and validation data\n",
    "y_train_valid = np.append(y_train, y_valid)\n",
    "\n",
    "# Get the indices of training and validation data\n",
    "train_valid_idxs = np.append(np.full(X_train.shape[0], -1), np.full(X_valid.shape[0], 0))\n",
    "\n",
    "# The PredefinedSplit\n",
    "ps = PredefinedSplit(train_valid_idxs)"
   ]
  },
  {
   "cell_type": "markdown",
   "metadata": {
    "colab_type": "text",
    "id": "JQjOAN1D4APD"
   },
   "source": [
    "### Creating the dictionary of the parameter grids\n",
    "- In the dictionary:\n",
    "    - the key is the acronym of the model\n",
    "    - the value is the parameter grid of the model"
   ]
  },
  {
   "cell_type": "code",
   "execution_count": 96,
   "metadata": {
    "colab": {},
    "colab_type": "code",
    "id": "1GfZJv1c4APD"
   },
   "outputs": [],
   "source": [
    "param_grids = {}"
   ]
  },
  {
   "cell_type": "markdown",
   "metadata": {},
   "source": [
    "#### The parameter grid for logistic regression\n",
    "The hyperparameters we want to fine-tune are:\n",
    "- C\n",
    "- tol\n",
    "See details of the meaning of the hyperparametes in sklearn.linear_model.LogisticRegression"
   ]
  },
  {
   "cell_type": "code",
   "execution_count": 97,
   "metadata": {},
   "outputs": [],
   "source": [
    "# The grids for C\n",
    "C_grids = [10 ** i for i in range(-2, 3)]\n",
    "\n",
    "# The grids for tol\n",
    "tol_grids = [10 ** i for i in range(-6, -1)]\n",
    "\n",
    "# Update param_grids\n",
    "param_grids['lr'] = [{'model__C': C_grids,\n",
    "                      'model__tol': tol_grids}]"
   ]
  },
  {
   "cell_type": "markdown",
   "metadata": {},
   "source": [
    "#### The parameter grid for decision tree\n",
    "The hyperparameters we want to fine-tune are:\n",
    "- min_samples_split\n",
    "- min_samples_leaf"
   ]
  },
  {
   "cell_type": "code",
   "execution_count": 98,
   "metadata": {},
   "outputs": [],
   "source": [
    "# The grids for min_samples_split\n",
    "min_samples_split_grids = [2, 20, 100]\n",
    "\n",
    "# The grids for min_samples_leaf\n",
    "min_samples_leaf_grids = [1, 20, 100]\n",
    "\n",
    "# Update param_grids\n",
    "param_grids['dtc'] = [{'model__min_samples_split': min_samples_split_grids,\n",
    "                       'model__min_samples_leaf': min_samples_leaf_grids}]"
   ]
  },
  {
   "cell_type": "markdown",
   "metadata": {
    "colab_type": "text",
    "id": "piKVtBo74APH"
   },
   "source": [
    "#### The parameter grid for random forest\n",
    "The hyperparameters we want to fine-tune are:\n",
    "- min_samples_split\n",
    "- min_samples_leaf\n",
    "\n",
    "See details of the meaning of the hyperparametes in [sklearn.ensemble.RandomForestClassifier](https://scikit-learn.org/stable/modules/generated/sklearn.ensemble.RandomForestClassifier.html)"
   ]
  },
  {
   "cell_type": "code",
   "execution_count": 99,
   "metadata": {
    "colab": {},
    "colab_type": "code",
    "id": "7L-IzRZe4APH"
   },
   "outputs": [],
   "source": [
    "# The grids for min_samples_split\n",
    "min_samples_split_grids = [2, 20, 100]\n",
    "\n",
    "# The grids for min_samples_leaf\n",
    "min_samples_leaf_grids = [1, 20, 100]\n",
    "\n",
    "# Update param_grids\n",
    "param_grids['rfc'] = [{'model__min_samples_split': min_samples_split_grids,\n",
    "                       'model__min_samples_leaf': min_samples_leaf_grids}]"
   ]
  },
  {
   "cell_type": "markdown",
   "metadata": {},
   "source": [
    "#### The parameter grid for Adaboost \n",
    "The hyperparameters we want to fine-tune are:\n",
    "- learning_rate"
   ]
  },
  {
   "cell_type": "code",
   "execution_count": 100,
   "metadata": {},
   "outputs": [],
   "source": [
    "# The grids for learning_rate\n",
    "learning_rate_grids = [10 ** i for i in range(-3, 2)]\n",
    "\n",
    "# Update param_grids\n",
    "param_grids['abc'] = [{'model__learning_rate': learning_rate_grids}]"
   ]
  },
  {
   "cell_type": "markdown",
   "metadata": {},
   "source": [
    "#### The parameter grid for histogram-based gradient boosting\n",
    "The hyperparameters we want to fine-tune are:\n",
    "- learning_rate\n",
    "- min_samples_leaf"
   ]
  },
  {
   "cell_type": "code",
   "execution_count": 101,
   "metadata": {},
   "outputs": [],
   "source": [
    "# The grids for learning_rate\n",
    "learning_rate_grids = [10 ** i for i in range(-3, 2)]\n",
    "\n",
    "# The grids for min_samples_leaf\n",
    "min_samples_leaf_grids = [1, 20, 100]\n",
    "\n",
    "# Update param_grids\n",
    "param_grids['hgbc'] = [{'model__learning_rate': learning_rate_grids,\n",
    "                        'model__min_samples_leaf': min_samples_leaf_grids}]"
   ]
  },
  {
   "cell_type": "markdown",
   "metadata": {},
   "source": [
    "#### The parameter grid for xgboost\n",
    "The hyperparameters we want to fine-tune are:\n",
    "- eta\n",
    "- gamma\n",
    "- lambda"
   ]
  },
  {
   "cell_type": "code",
   "execution_count": 102,
   "metadata": {},
   "outputs": [],
   "source": [
    "# The grids for eta\n",
    "eta_grids = [10 ** i for i in range(-4, 1)]\n",
    "\n",
    "# The grids for gamma\n",
    "gamma_grids = [0, 10, 100]\n",
    "\n",
    "# The grids for lambda\n",
    "lambda_grids = [10 ** i for i in range(-4, 5)]\n",
    "\n",
    "# Update param_grids\n",
    "param_grids['xgbc'] = [{'model__eta': eta_grids,\n",
    "                        'model__gamma': gamma_grids,\n",
    "                        'model__lambda': lambda_grids}]"
   ]
  },
  {
   "cell_type": "markdown",
   "metadata": {
    "colab_type": "text",
    "id": "bco06XPK4APO"
   },
   "source": [
    "#### The parameter grid for multi-layer perceptron classifier\n",
    "The hyperparameters we want to fine-tune are:\n",
    "- alpha\n",
    "- learning_rate_init\n",
    "\n",
    "See details of the meaning of the hyperparametes in [sklearn.neural_network.MLPClassifier](https://scikit-learn.org/stable/modules/generated/sklearn.neural_network.MLPClassifier.html)"
   ]
  },
  {
   "cell_type": "code",
   "execution_count": 103,
   "metadata": {
    "colab": {},
    "colab_type": "code",
    "id": "bEuags7e4APO"
   },
   "outputs": [],
   "source": [
    "# The grids for alpha\n",
    "alpha_grids = [10 ** i for i in range(-6, -1)]\n",
    "\n",
    "# The grids for learning_rate_init\n",
    "learning_rate_init_grids = [10 ** i for i in range(-5, 0)]\n",
    "\n",
    "# Update param_grids\n",
    "param_grids['mlpc'] = [{'model__alpha': alpha_grids,\n",
    "                        'model__learning_rate_init': learning_rate_init_grids}]"
   ]
  },
  {
   "cell_type": "markdown",
   "metadata": {},
   "source": [
    "#### The parameter grid for Support Vector Machine\n",
    "The hyperparameters we want to fine-tune are:\n",
    "- C\n",
    "- gamma\n",
    "- kernel"
   ]
  },
  {
   "cell_type": "code",
   "execution_count": 107,
   "metadata": {},
   "outputs": [],
   "source": [
    "# The grids for C\n",
    "C_grids = [10 ** i for i in range(-2, 3)]\n",
    "\n",
    "# The grids for gamma\n",
    "gamma_grids = [0, 10, 100]\n",
    "\n",
    "# The grids for kernel\n",
    "kernel_grids = ['rbf', 'poly', 'sigmoid']\n",
    "\n",
    "# Update param_grids\n",
    "param_grids['svm'] = [{'model__C': C_grids,\n",
    "                        'model__gamma': gamma_grids,\n",
    "                        'model__kernel': kernel_grids}]"
   ]
  },
  {
   "cell_type": "markdown",
   "metadata": {
    "colab_type": "text",
    "id": "y9nHKlsi4APQ"
   },
   "source": [
    "### Creating the directory for the cv results."
   ]
  },
  {
   "cell_type": "code",
   "execution_count": 108,
   "metadata": {
    "colab": {},
    "colab_type": "code",
    "id": "URhOUVZZ4APQ"
   },
   "outputs": [],
   "source": [
    "import os\n",
    "\n",
    "# Make directory\n",
    "directory = os.path.dirname('cv_results/')\n",
    "if not os.path.exists(directory):\n",
    "    os.makedirs(directory)"
   ]
  },
  {
   "cell_type": "markdown",
   "metadata": {
    "colab_type": "text",
    "id": "9Dn0WRWv4APR"
   },
   "source": [
    "### Hyperparameter tuning\n",
    "The code below shows how to fine-tune the hyperparameters of the models above (using sklearn GridSearchCV)."
   ]
  },
  {
   "cell_type": "code",
   "execution_count": 109,
   "metadata": {
    "colab": {},
    "colab_type": "code",
    "id": "ISzNu6xI4APR"
   },
   "outputs": [],
   "source": [
    "from sklearn.model_selection import GridSearchCV\n",
    "\n",
    "# The list of [best_score_, best_params_, best_estimator_] obtained by GridSearchCV\n",
    "best_score_param_estimator_gs = []\n",
    "\n",
    "for acronym in pipes.keys():\n",
    "    # GridSearchCV\n",
    "    gs = GridSearchCV(estimator=pipes[acronym],\n",
    "                      param_grid=param_grids[acronym],\n",
    "                      scoring='f1_micro',\n",
    "                      n_jobs=-1,\n",
    "                      cv=ps,\n",
    "                      return_train_score=True)\n",
    "        \n",
    "    # Fit the pipeline\n",
    "    gs = gs.fit(X_train_valid, y_train_valid)\n",
    "    \n",
    "    # Update best_score_param_estimator_gs\n",
    "    best_score_param_estimator_gs.append([gs.best_score_, gs.best_params_, gs.best_estimator_])\n",
    "    \n",
    "    # Sort cv_results in ascending order of 'rank_test_score' and 'std_test_score'\n",
    "    cv_results = pd.DataFrame.from_dict(gs.cv_results_).sort_values(by=['rank_test_score', 'std_test_score'])\n",
    "    \n",
    "    # Get the important columns in cv_results\n",
    "    important_columns = ['rank_test_score',\n",
    "                         'mean_test_score', \n",
    "                         'std_test_score', \n",
    "                         'mean_train_score', \n",
    "                         'std_train_score',\n",
    "                         'mean_fit_time', \n",
    "                         'std_fit_time',                        \n",
    "                         'mean_score_time', \n",
    "                         'std_score_time']\n",
    "    \n",
    "    # Move the important columns ahead\n",
    "    cv_results = cv_results[important_columns + sorted(list(set(cv_results.columns) - set(important_columns)))]\n",
    "\n",
    "    # Write cv_results file\n",
    "    cv_results.to_csv(path_or_buf='cv_results/' + acronym + '.csv', index=False)"
   ]
  },
  {
   "cell_type": "markdown",
   "metadata": {
    "colab_type": "text",
    "id": "O1NTOKVh4APT"
   },
   "source": [
    "### Model selection"
   ]
  },
  {
   "cell_type": "code",
   "execution_count": 110,
   "metadata": {
    "colab": {
     "base_uri": "https://localhost:8080/",
     "height": 111
    },
    "colab_type": "code",
    "id": "oF4Ydi8r4APT",
    "outputId": "24dcc143-ca1d-46d7-866f-05e07979778f",
    "scrolled": true
   },
   "outputs": [
    {
     "data": {
      "text/html": [
       "<div>\n",
       "<style scoped>\n",
       "    .dataframe tbody tr th:only-of-type {\n",
       "        vertical-align: middle;\n",
       "    }\n",
       "\n",
       "    .dataframe tbody tr th {\n",
       "        vertical-align: top;\n",
       "    }\n",
       "\n",
       "    .dataframe thead th {\n",
       "        text-align: right;\n",
       "    }\n",
       "</style>\n",
       "<table border=\"1\" class=\"dataframe\">\n",
       "  <thead>\n",
       "    <tr style=\"text-align: right;\">\n",
       "      <th></th>\n",
       "      <th>best_score</th>\n",
       "      <th>best_param</th>\n",
       "      <th>best_estimator</th>\n",
       "    </tr>\n",
       "  </thead>\n",
       "  <tbody>\n",
       "    <tr>\n",
       "      <th>0</th>\n",
       "      <td>0.797101</td>\n",
       "      <td>{'model__min_samples_leaf': 1, 'model__min_sam...</td>\n",
       "      <td>(DecisionTreeClassifier(ccp_alpha=0.0, class_w...</td>\n",
       "    </tr>\n",
       "    <tr>\n",
       "      <th>1</th>\n",
       "      <td>0.782609</td>\n",
       "      <td>{'model__C': 10, 'model__tol': 1e-06}</td>\n",
       "      <td>(LogisticRegression(C=10, class_weight='balanc...</td>\n",
       "    </tr>\n",
       "    <tr>\n",
       "      <th>2</th>\n",
       "      <td>0.782609</td>\n",
       "      <td>{'model__learning_rate': 0.01, 'model__min_sam...</td>\n",
       "      <td>(HistGradientBoostingClassifier(l2_regularizat...</td>\n",
       "    </tr>\n",
       "    <tr>\n",
       "      <th>3</th>\n",
       "      <td>0.768116</td>\n",
       "      <td>{'model__alpha': 1e-06, 'model__learning_rate_...</td>\n",
       "      <td>(MLPClassifier(activation='relu', alpha=1e-06,...</td>\n",
       "    </tr>\n",
       "    <tr>\n",
       "      <th>4</th>\n",
       "      <td>0.753623</td>\n",
       "      <td>{'model__min_samples_leaf': 1, 'model__min_sam...</td>\n",
       "      <td>((DecisionTreeClassifier(ccp_alpha=0.0, class_...</td>\n",
       "    </tr>\n",
       "    <tr>\n",
       "      <th>5</th>\n",
       "      <td>0.739130</td>\n",
       "      <td>{'model__C': 0.01, 'model__gamma': 10, 'model_...</td>\n",
       "      <td>(SVC(C=0.01, break_ties=False, cache_size=200,...</td>\n",
       "    </tr>\n",
       "    <tr>\n",
       "      <th>6</th>\n",
       "      <td>0.695652</td>\n",
       "      <td>{'model__eta': 0.0001, 'model__gamma': 10, 'mo...</td>\n",
       "      <td>(XGBClassifier(base_score=0.5, booster='gbtree...</td>\n",
       "    </tr>\n",
       "  </tbody>\n",
       "</table>\n",
       "</div>"
      ],
      "text/plain": [
       "   best_score                                         best_param  \\\n",
       "0    0.797101  {'model__min_samples_leaf': 1, 'model__min_sam...   \n",
       "1    0.782609              {'model__C': 10, 'model__tol': 1e-06}   \n",
       "2    0.782609  {'model__learning_rate': 0.01, 'model__min_sam...   \n",
       "3    0.768116  {'model__alpha': 1e-06, 'model__learning_rate_...   \n",
       "4    0.753623  {'model__min_samples_leaf': 1, 'model__min_sam...   \n",
       "5    0.739130  {'model__C': 0.01, 'model__gamma': 10, 'model_...   \n",
       "6    0.695652  {'model__eta': 0.0001, 'model__gamma': 10, 'mo...   \n",
       "\n",
       "                                      best_estimator  \n",
       "0  (DecisionTreeClassifier(ccp_alpha=0.0, class_w...  \n",
       "1  (LogisticRegression(C=10, class_weight='balanc...  \n",
       "2  (HistGradientBoostingClassifier(l2_regularizat...  \n",
       "3  (MLPClassifier(activation='relu', alpha=1e-06,...  \n",
       "4  ((DecisionTreeClassifier(ccp_alpha=0.0, class_...  \n",
       "5  (SVC(C=0.01, break_ties=False, cache_size=200,...  \n",
       "6  (XGBClassifier(base_score=0.5, booster='gbtree...  "
      ]
     },
     "execution_count": 110,
     "metadata": {},
     "output_type": "execute_result"
    }
   ],
   "source": [
    "# Sort best_score_param_estimator_gs in descending order of the best_score_\n",
    "best_score_param_estimator_gs = sorted(best_score_param_estimator_gs, key=lambda x : x[0], reverse=True)\n",
    "\n",
    "# Print best_score_param_estimator_gs\n",
    "pd.DataFrame(best_score_param_estimator_gs, columns=['best_score', 'best_param', 'best_estimator'])"
   ]
  },
  {
   "cell_type": "code",
   "execution_count": 111,
   "metadata": {
    "colab": {},
    "colab_type": "code",
    "id": "_LqaZnc64APU"
   },
   "outputs": [],
   "source": [
    "# Get the best_score, best_param and best_estimator obtained by GridSearchCV\n",
    "best_score_gs, best_param_gs, best_estimator_gs = best_score_param_estimator_gs[0]"
   ]
  },
  {
   "cell_type": "code",
   "execution_count": 127,
   "metadata": {},
   "outputs": [],
   "source": [
    "# Get the dataframe of feature and importance\n",
    "df_fi_rfc = pd.DataFrame(np.hstack((features.reshape(-1, 1), best_estimator_gs.named_steps['model'].feature_importances_.reshape(-1, 1))),\n",
    "                         columns=['Features', 'Importance'])\n",
    "\n",
    "# Sort df_fi_rfc in descending order of the importance\n",
    "df_fi_rfc = df_fi_rfc.sort_values(ascending=False, by='Importance').reset_index(drop=True)\n",
    "\n",
    "# Print the first 5 rows of df_fi_rfc\n",
    "df_fi_rfc.head(20)\n",
    "\n",
    "df_features = df_fi_rfc.iloc[:20]"
   ]
  },
  {
   "cell_type": "code",
   "execution_count": 130,
   "metadata": {},
   "outputs": [
    {
     "data": {
      "image/png": "[encoded data removed]",
      "text/plain": [
       "<Figure size 720x504 with 1 Axes>"
      ]
     },
     "metadata": {
      "needs_background": "light"
     },
     "output_type": "display_data"
    }
   ],
   "source": [
    "# Create a figure\n",
    "fig = plt.figure(figsize=(10, 7))\n",
    "\n",
    "# The bar plot of feature importance\n",
    "plt.bar(df_features['Features'], df_features['Importance'], color='green')\n",
    "\n",
    "# Set x-axis\n",
    "plt.xlabel('Features')\n",
    "plt.xticks(rotation=90)\n",
    "\n",
    "# Set y-axis\n",
    "plt.ylabel('Importance')\n",
    "\n",
    "# Save and show the figure\n",
    "plt.tight_layout()\n",
    "#plt.savefig('./figure_regression/feature_importance_rfc.pdf')\n",
    "plt.show()"
   ]
  },
  {
   "cell_type": "markdown",
   "metadata": {
    "colab": {},
    "colab_type": "code",
    "id": "ZucB_4TQ4APW"
   },
   "source": [
    "# Conclusions"
   ]
  },
  {
   "cell_type": "markdown",
   "metadata": {},
   "source": [
    "The best model was Random Forest, followed by Logisitc Regression. The most important features are the Team Chicago Bulls, Free Throw Percentage, Defensive Rebounds, Field Goal Percentage, Turnovers, and so on. With a score of 0.797101 this is not a perfect model, and can be improved upon. This was a great exercise for machine learning and hyperparameter tuning."
   ]
  }
 ],
 "metadata": {
  "colab": {
   "collapsed_sections": [
    "78nn7ejt4AOI",
    "IE9wOLk84AOM",
    "ei8r0bJP4AOU",
    "_qlzJj8P4AOW",
    "qzgPDkxM4AOg",
    "aFZrDH4G4AOn",
    "n1wNsrxv4AOr",
    "FAnUmBDm4AOv"
   ],
   "name": "case_study_4_2.ipynb",
   "provenance": []
  },
  "kernelspec": {
   "display_name": "Python 3",
   "language": "python",
   "name": "python3"
  },
  "language_info": {
   "codemirror_mode": {
    "name": "ipython",
    "version": 3
   },
   "file_extension": ".py",
   "mimetype": "text/x-python",
   "name": "python",
   "nbconvert_exporter": "python",
   "pygments_lexer": "ipython3",
   "version": "3.7.4"
  },
  "toc": {
   "base_numbering": 1,
   "nav_menu": {},
   "number_sections": true,
   "sideBar": true,
   "skip_h1_title": false,
   "title_cell": "Table of Contents",
   "title_sidebar": "Contents",
   "toc_cell": true,
   "toc_position": {},
   "toc_section_display": true,
   "toc_window_display": false
  }
 },
 "nbformat": 4,
 "nbformat_minor": 1
}
